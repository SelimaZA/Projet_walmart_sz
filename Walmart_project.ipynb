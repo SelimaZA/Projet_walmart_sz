{
 "cells": [
  {
   "cell_type": "code",
   "execution_count": null,
   "metadata": {},
   "outputs": [],
   "source": [
    "# Le service marketing de Walmart nous a demandé de construire un modèle d'apprentissage automatique\n",
    "# capable d'estimer les ventes hebdomadaires dans leurs magasins, avec la meilleure précision possible \n",
    "#sur les prédictions faites."
   ]
  },
  {
   "cell_type": "markdown",
   "metadata": {},
   "source": [
    "EDA"
   ]
  },
  {
   "cell_type": "code",
   "execution_count": 1,
   "metadata": {},
   "outputs": [
    {
     "name": "stdout",
     "output_type": "stream",
     "text": [
      "Collecting plotly\n",
      "  Using cached plotly-5.5.0-py2.py3-none-any.whl (26.5 MB)\n",
      "Collecting tenacity>=6.2.0\n",
      "  Using cached tenacity-8.0.1-py3-none-any.whl (24 kB)\n",
      "Requirement already satisfied: six in /opt/conda/lib/python3.8/site-packages (from plotly) (1.15.0)\n",
      "Installing collected packages: tenacity, plotly\n",
      "Successfully installed plotly-5.5.0 tenacity-8.0.1\n"
     ]
    }
   ],
   "source": [
    "!pip install plotly "
   ]
  },
  {
   "cell_type": "code",
   "execution_count": 1,
   "metadata": {},
   "outputs": [],
   "source": [
    "import pandas as pd\n",
    "import numpy as np\n",
    "import datetime as dt\n",
    "from sklearn.model_selection import train_test_split\n",
    "from sklearn.pipeline import Pipeline\n",
    "from sklearn.impute import SimpleImputer\n",
    "from sklearn.preprocessing import  OneHotEncoder, StandardScaler\n",
    "from sklearn.compose import ColumnTransformer\n",
    "from sklearn.linear_model import LinearRegression\n",
    "from sklearn.linear_model import Lasso\n",
    "from sklearn.model_selection import cross_val_score, GridSearchCV\n",
    "from sklearn.metrics import r2_score\n",
    "from sklearn.linear_model import Ridge\n",
    "import warnings\n",
    "warnings.filterwarnings(\"ignore\", category=DeprecationWarning) # to avoid deprecation warnings\n",
    "\n",
    "from matplotlib import pyplot as plt\n",
    "import seaborn as sns\n",
    "import plotly.express as px\n",
    "import plotly.graph_objects as go\n",
    "import plotly.io as pio\n",
    "# setting Jedha color palette as default\n",
    "pio.templates[\"jedha\"] = go.layout.Template(\n",
    "    layout_colorway=[\"#4B9AC7\", \"#4BE8E0\", \"#9DD4F3\", \"#97FBF6\", \"#2A7FAF\", \"#23B1AB\", \"#0E3449\", \"#015955\"]\n",
    ")\n",
    "pio.templates.default = \"jedha\"\n",
    "pio.renderers.default = \"iframe_connected\""
   ]
  },
  {
   "cell_type": "code",
   "execution_count": 2,
   "metadata": {},
   "outputs": [
    {
     "name": "stdout",
     "output_type": "stream",
     "text": [
      "Loading dataset...\n",
      "...Done.\n",
      "\n"
     ]
    }
   ],
   "source": [
    "# Import dataset\n",
    "print(\"Loading dataset...\")\n",
    "dataset = pd.read_csv(\"Walmart_Store_sales.csv\")\n",
    "print(\"...Done.\")\n",
    "print()"
   ]
  },
  {
   "cell_type": "raw",
   "metadata": {},
   "source": [
    "Le projet peut être divisé en trois étapes :\n",
    "\n",
    "    Partie 1 : faire une EDA et tous les prétraitements nécessaires pour préparer les données pour le machine learning\n",
    "    Partie 2 : entraîner un modèle de régression linéaire (baseline)\n",
    "    Partie 3 : éviter le surapprentissage en entraînant un modèle de régression régularisé\n",
    "        \n",
    "Pour mener à bien ce projet, votre équipe doit :\n",
    "\n",
    "    Créer des visualisations\n",
    "    Former au moins un modèle de régression linéaire sur l'ensemble de données, qui prédit le montant des ventes hebdomadaires en fonction des autres variables\n",
    "    Évaluer les performances du modèle en utilisant une métrique pertinente pour les problèmes de régression\n",
    "    Interpréter les coefficients du modèle pour identifier les caractéristiques importantes pour la prédiction\n",
    "    Former au moins un modèle avec régularisation (Lasso ou Ridge) pour réduire le surapprentissage\n",
    "    \n",
    "Partie 1 : EDA et prétraitement des données\n",
    "\n",
    "Démarrez votre projet en explorant votre jeu de données : créez des chiffres, calculez des statistiques etc...\n",
    "\n",
    "Ensuite, vous devrez effectuer un prétraitement sur l'ensemble de données. Vous pouvez suivre les instructions du modèle de prétraitement. Il y aura également des transformations spécifiques à prévoir sur ce dataset, par exemple sur la colonne Date qui ne peut pas être incluse telle quelle dans le modèle. Voici quelques conseils qui pourraient vous aider\n",
    "Prétraitement à prévoir avec les pandas\n",
    "\n",
    "Supprimer les lignes où les valeurs cibles sont manquantes :\n",
    "\n",
    "    Ici, la variable cible (Y) correspond à la colonne Weekly_Sales. On peut voir ci-dessus qu'il y a des valeurs manquantes dans cette colonne.\n",
    "    Nous n'utilisons jamais de techniques d'imputation sur la cible : cela pourrait créer un biais dans les prédictions !\n",
    "    Ensuite, nous allons simplement supprimer les lignes de l'ensemble de données pour lesquelles la valeur dans Weekly_Sales est manquante.\n",
    "\n",
    "Créer des fonctionnalités utilisables à partir de la colonne Date : La colonne Date ne peut pas être incluse telle quelle dans le modèle. Soit vous pouvez supprimer cette colonne, soit vous créerez de nouvelles colonnes contenant les caractéristiques numériques suivantes :\n",
    "\n",
    "    année\n",
    "    mois\n",
    "    journée\n",
    "    jour de la semaine\n",
    "\n",
    "Drop lines contenant des valeurs invalides ou des valeurs aberrantes : Dans ce projet, seront considérées comme aberrantes toutes les caractéristiques numériques qui n'entrent pas dans la plage : [𝑋¯−3𝜎,𝑋¯+3𝜎]\n",
    "\n",
    ". Cela concerne les colonnes : Température, Fuel_price, CPI et Unemployment\n",
    "\n",
    "Variable cible/cible (Y) que l'on va essayer de prédire, à séparer des autres : Weekly_Sales\n",
    "\n",
    "------------\n",
    "Prétraitements à prévoir avec scikit-learn\n",
    "\n",
    "Variables explicatives (X) Nous devons identifier quelles colonnes contiennent des variables catégorielles et quelles colonnes contiennent des variables numériques, car elles seront traitées différemment.\n",
    "\n",
    "    Variables catégorielles : Store, Holiday_Flag\n",
    "    Variables numériques : Température, Fuel_Price, CPI, Chômage, Année, Mois, Jour, DayOfWeek\n",
    "\n",
    "Partie 2 : Modèle de base (régression linéaire)\n",
    "\n",
    "Une fois que vous avez entraîné un premier modèle, n'oubliez pas d'évaluer ses performances sur le train et les ensembles de test. Êtes-vous satisfait des résultats ? Par ailleurs, il serait intéressant d'analyser les valeurs des coefficients du modèle pour savoir quelles caractéristiques sont importantes pour la prédiction. Pour ce faire, l'attribut .coef_ de la classe LinearRegression de scikit-learn peut être utile. Veuillez vous référer au lien suivant pour plus d'informations 😉 https://scikit-learn.org/stable/modules/generated/sklearn.linear_model.LinearRegression.html\n",
    "\n",
    "Partie 3 : Combattre le surapprentissage\n",
    "\n",
    "Dans cette dernière partie, vous devrez entraîner un modèle de régression linéaire régularisé. Vous trouverez ci-dessous quelques classes utiles dans la documentation de scikit-learn :\n",
    "\n",
    "    https://scikit-learn.org/stable/modules/generated/sklearn.linear_model.Ridge.html#sklearn.linear_model.Ridge\n",
    "    https://scikit-learn.org/stable/modules/generated/sklearn.linear_model.Lasso.html#sklearn.linear_model.Lasso\n",
    "\n",
    "Question bonus\n",
    "\n",
    "Dans les modèles de régression régularisés, il existe un hyperparamètre appelé force de régularisation qui peut être affiné pour obtenir les meilleures prédictions généralisées sur un ensemble de données donné. Cette mise au point peut être effectuée grâce à la classe GridSearchCV de scikit-learn : https://scikit-learn.org/stable/modules/generated/sklearn.model_selection.GridSearchCV.html\n",
    "\n",
    "Vous trouverez également ici quelques exemples d'utilisation de GridSearchCV avec des modèles Ridge ou Lasso : https://alfurka.github.io/2018-11-18-grid-search/\n",
    "\n",
    "CPI: Consumer price index\n",
    "Unemployment: Unemployment rate\n",
    "Holiday_flag: Whether the week is a special holiday week\n",
    "Date: Specifying the Week (Friday of every Week)\n",
    "Temperature: Average temperature in the region (in ℉)\n",
    "FuelPrice: Cost of fuel in the region"
   ]
  },
  {
   "cell_type": "code",
   "execution_count": 3,
   "metadata": {},
   "outputs": [
    {
     "name": "stdout",
     "output_type": "stream",
     "text": [
      "Number of rows and columns: (150, 8)\n",
      "\n",
      "Display of dataset: \n"
     ]
    },
    {
     "data": {
      "text/html": [
       "<div>\n",
       "<style scoped>\n",
       "    .dataframe tbody tr th:only-of-type {\n",
       "        vertical-align: middle;\n",
       "    }\n",
       "\n",
       "    .dataframe tbody tr th {\n",
       "        vertical-align: top;\n",
       "    }\n",
       "\n",
       "    .dataframe thead th {\n",
       "        text-align: right;\n",
       "    }\n",
       "</style>\n",
       "<table border=\"1\" class=\"dataframe\">\n",
       "  <thead>\n",
       "    <tr style=\"text-align: right;\">\n",
       "      <th></th>\n",
       "      <th>Store</th>\n",
       "      <th>Date</th>\n",
       "      <th>Weekly_Sales</th>\n",
       "      <th>Holiday_Flag</th>\n",
       "      <th>Temperature</th>\n",
       "      <th>Fuel_Price</th>\n",
       "      <th>CPI</th>\n",
       "      <th>Unemployment</th>\n",
       "    </tr>\n",
       "  </thead>\n",
       "  <tbody>\n",
       "    <tr>\n",
       "      <th>0</th>\n",
       "      <td>6.0</td>\n",
       "      <td>18-02-2011</td>\n",
       "      <td>1572117.54</td>\n",
       "      <td>NaN</td>\n",
       "      <td>59.61</td>\n",
       "      <td>3.045</td>\n",
       "      <td>214.777523</td>\n",
       "      <td>6.858</td>\n",
       "    </tr>\n",
       "    <tr>\n",
       "      <th>1</th>\n",
       "      <td>13.0</td>\n",
       "      <td>25-03-2011</td>\n",
       "      <td>1807545.43</td>\n",
       "      <td>0.0</td>\n",
       "      <td>42.38</td>\n",
       "      <td>3.435</td>\n",
       "      <td>128.616064</td>\n",
       "      <td>7.470</td>\n",
       "    </tr>\n",
       "    <tr>\n",
       "      <th>2</th>\n",
       "      <td>17.0</td>\n",
       "      <td>27-07-2012</td>\n",
       "      <td>NaN</td>\n",
       "      <td>0.0</td>\n",
       "      <td>NaN</td>\n",
       "      <td>NaN</td>\n",
       "      <td>130.719581</td>\n",
       "      <td>5.936</td>\n",
       "    </tr>\n",
       "    <tr>\n",
       "      <th>3</th>\n",
       "      <td>11.0</td>\n",
       "      <td>NaN</td>\n",
       "      <td>1244390.03</td>\n",
       "      <td>0.0</td>\n",
       "      <td>84.57</td>\n",
       "      <td>NaN</td>\n",
       "      <td>214.556497</td>\n",
       "      <td>7.346</td>\n",
       "    </tr>\n",
       "    <tr>\n",
       "      <th>4</th>\n",
       "      <td>6.0</td>\n",
       "      <td>28-05-2010</td>\n",
       "      <td>1644470.66</td>\n",
       "      <td>0.0</td>\n",
       "      <td>78.89</td>\n",
       "      <td>2.759</td>\n",
       "      <td>212.412888</td>\n",
       "      <td>7.092</td>\n",
       "    </tr>\n",
       "  </tbody>\n",
       "</table>\n",
       "</div>"
      ],
      "text/plain": [
       "   Store        Date  Weekly_Sales  Holiday_Flag  Temperature  Fuel_Price  \\\n",
       "0    6.0  18-02-2011    1572117.54           NaN        59.61       3.045   \n",
       "1   13.0  25-03-2011    1807545.43           0.0        42.38       3.435   \n",
       "2   17.0  27-07-2012           NaN           0.0          NaN         NaN   \n",
       "3   11.0         NaN    1244390.03           0.0        84.57         NaN   \n",
       "4    6.0  28-05-2010    1644470.66           0.0        78.89       2.759   \n",
       "\n",
       "          CPI  Unemployment  \n",
       "0  214.777523         6.858  \n",
       "1  128.616064         7.470  \n",
       "2  130.719581         5.936  \n",
       "3  214.556497         7.346  \n",
       "4  212.412888         7.092  "
      ]
     },
     "metadata": {},
     "output_type": "display_data"
    },
    {
     "name": "stdout",
     "output_type": "stream",
     "text": [
      "\n",
      "Basics statistics: \n"
     ]
    },
    {
     "data": {
      "text/html": [
       "<div>\n",
       "<style scoped>\n",
       "    .dataframe tbody tr th:only-of-type {\n",
       "        vertical-align: middle;\n",
       "    }\n",
       "\n",
       "    .dataframe tbody tr th {\n",
       "        vertical-align: top;\n",
       "    }\n",
       "\n",
       "    .dataframe thead th {\n",
       "        text-align: right;\n",
       "    }\n",
       "</style>\n",
       "<table border=\"1\" class=\"dataframe\">\n",
       "  <thead>\n",
       "    <tr style=\"text-align: right;\">\n",
       "      <th></th>\n",
       "      <th>Store</th>\n",
       "      <th>Date</th>\n",
       "      <th>Weekly_Sales</th>\n",
       "      <th>Holiday_Flag</th>\n",
       "      <th>Temperature</th>\n",
       "      <th>Fuel_Price</th>\n",
       "      <th>CPI</th>\n",
       "      <th>Unemployment</th>\n",
       "    </tr>\n",
       "  </thead>\n",
       "  <tbody>\n",
       "    <tr>\n",
       "      <th>count</th>\n",
       "      <td>150.000000</td>\n",
       "      <td>132</td>\n",
       "      <td>1.360000e+02</td>\n",
       "      <td>138.000000</td>\n",
       "      <td>132.000000</td>\n",
       "      <td>136.000000</td>\n",
       "      <td>138.000000</td>\n",
       "      <td>135.000000</td>\n",
       "    </tr>\n",
       "    <tr>\n",
       "      <th>unique</th>\n",
       "      <td>NaN</td>\n",
       "      <td>85</td>\n",
       "      <td>NaN</td>\n",
       "      <td>NaN</td>\n",
       "      <td>NaN</td>\n",
       "      <td>NaN</td>\n",
       "      <td>NaN</td>\n",
       "      <td>NaN</td>\n",
       "    </tr>\n",
       "    <tr>\n",
       "      <th>top</th>\n",
       "      <td>NaN</td>\n",
       "      <td>07-01-2011</td>\n",
       "      <td>NaN</td>\n",
       "      <td>NaN</td>\n",
       "      <td>NaN</td>\n",
       "      <td>NaN</td>\n",
       "      <td>NaN</td>\n",
       "      <td>NaN</td>\n",
       "    </tr>\n",
       "    <tr>\n",
       "      <th>freq</th>\n",
       "      <td>NaN</td>\n",
       "      <td>4</td>\n",
       "      <td>NaN</td>\n",
       "      <td>NaN</td>\n",
       "      <td>NaN</td>\n",
       "      <td>NaN</td>\n",
       "      <td>NaN</td>\n",
       "      <td>NaN</td>\n",
       "    </tr>\n",
       "    <tr>\n",
       "      <th>mean</th>\n",
       "      <td>9.866667</td>\n",
       "      <td>NaN</td>\n",
       "      <td>1.249536e+06</td>\n",
       "      <td>0.079710</td>\n",
       "      <td>61.398106</td>\n",
       "      <td>3.320853</td>\n",
       "      <td>179.898509</td>\n",
       "      <td>7.598430</td>\n",
       "    </tr>\n",
       "    <tr>\n",
       "      <th>std</th>\n",
       "      <td>6.231191</td>\n",
       "      <td>NaN</td>\n",
       "      <td>6.474630e+05</td>\n",
       "      <td>0.271831</td>\n",
       "      <td>18.378901</td>\n",
       "      <td>0.478149</td>\n",
       "      <td>40.274956</td>\n",
       "      <td>1.577173</td>\n",
       "    </tr>\n",
       "    <tr>\n",
       "      <th>min</th>\n",
       "      <td>1.000000</td>\n",
       "      <td>NaN</td>\n",
       "      <td>2.689290e+05</td>\n",
       "      <td>0.000000</td>\n",
       "      <td>18.790000</td>\n",
       "      <td>2.514000</td>\n",
       "      <td>126.111903</td>\n",
       "      <td>5.143000</td>\n",
       "    </tr>\n",
       "    <tr>\n",
       "      <th>25%</th>\n",
       "      <td>4.000000</td>\n",
       "      <td>NaN</td>\n",
       "      <td>6.050757e+05</td>\n",
       "      <td>0.000000</td>\n",
       "      <td>45.587500</td>\n",
       "      <td>2.852250</td>\n",
       "      <td>131.970831</td>\n",
       "      <td>6.597500</td>\n",
       "    </tr>\n",
       "    <tr>\n",
       "      <th>50%</th>\n",
       "      <td>9.000000</td>\n",
       "      <td>NaN</td>\n",
       "      <td>1.261424e+06</td>\n",
       "      <td>0.000000</td>\n",
       "      <td>62.985000</td>\n",
       "      <td>3.451000</td>\n",
       "      <td>197.908893</td>\n",
       "      <td>7.470000</td>\n",
       "    </tr>\n",
       "    <tr>\n",
       "      <th>75%</th>\n",
       "      <td>15.750000</td>\n",
       "      <td>NaN</td>\n",
       "      <td>1.806386e+06</td>\n",
       "      <td>0.000000</td>\n",
       "      <td>76.345000</td>\n",
       "      <td>3.706250</td>\n",
       "      <td>214.934616</td>\n",
       "      <td>8.150000</td>\n",
       "    </tr>\n",
       "    <tr>\n",
       "      <th>max</th>\n",
       "      <td>20.000000</td>\n",
       "      <td>NaN</td>\n",
       "      <td>2.771397e+06</td>\n",
       "      <td>1.000000</td>\n",
       "      <td>91.650000</td>\n",
       "      <td>4.193000</td>\n",
       "      <td>226.968844</td>\n",
       "      <td>14.313000</td>\n",
       "    </tr>\n",
       "  </tbody>\n",
       "</table>\n",
       "</div>"
      ],
      "text/plain": [
       "             Store        Date  Weekly_Sales  Holiday_Flag  Temperature  \\\n",
       "count   150.000000         132  1.360000e+02    138.000000   132.000000   \n",
       "unique         NaN          85           NaN           NaN          NaN   \n",
       "top            NaN  07-01-2011           NaN           NaN          NaN   \n",
       "freq           NaN           4           NaN           NaN          NaN   \n",
       "mean      9.866667         NaN  1.249536e+06      0.079710    61.398106   \n",
       "std       6.231191         NaN  6.474630e+05      0.271831    18.378901   \n",
       "min       1.000000         NaN  2.689290e+05      0.000000    18.790000   \n",
       "25%       4.000000         NaN  6.050757e+05      0.000000    45.587500   \n",
       "50%       9.000000         NaN  1.261424e+06      0.000000    62.985000   \n",
       "75%      15.750000         NaN  1.806386e+06      0.000000    76.345000   \n",
       "max      20.000000         NaN  2.771397e+06      1.000000    91.650000   \n",
       "\n",
       "        Fuel_Price         CPI  Unemployment  \n",
       "count   136.000000  138.000000    135.000000  \n",
       "unique         NaN         NaN           NaN  \n",
       "top            NaN         NaN           NaN  \n",
       "freq           NaN         NaN           NaN  \n",
       "mean      3.320853  179.898509      7.598430  \n",
       "std       0.478149   40.274956      1.577173  \n",
       "min       2.514000  126.111903      5.143000  \n",
       "25%       2.852250  131.970831      6.597500  \n",
       "50%       3.451000  197.908893      7.470000  \n",
       "75%       3.706250  214.934616      8.150000  \n",
       "max       4.193000  226.968844     14.313000  "
      ]
     },
     "metadata": {},
     "output_type": "display_data"
    },
    {
     "name": "stdout",
     "output_type": "stream",
     "text": [
      "\n",
      "Percentage of missing values: \n"
     ]
    },
    {
     "data": {
      "text/plain": [
       "Store            0.000000\n",
       "Date            12.000000\n",
       "Weekly_Sales     9.333333\n",
       "Holiday_Flag     8.000000\n",
       "Temperature     12.000000\n",
       "Fuel_Price       9.333333\n",
       "CPI              8.000000\n",
       "Unemployment    10.000000\n",
       "dtype: float64"
      ]
     },
     "metadata": {},
     "output_type": "display_data"
    },
    {
     "name": "stdout",
     "output_type": "stream",
     "text": [
      "<class 'pandas.core.frame.DataFrame'>\n",
      "RangeIndex: 150 entries, 0 to 149\n",
      "Data columns (total 8 columns):\n",
      " #   Column        Non-Null Count  Dtype  \n",
      "---  ------        --------------  -----  \n",
      " 0   Store         150 non-null    float64\n",
      " 1   Date          132 non-null    object \n",
      " 2   Weekly_Sales  136 non-null    float64\n",
      " 3   Holiday_Flag  138 non-null    float64\n",
      " 4   Temperature   132 non-null    float64\n",
      " 5   Fuel_Price    136 non-null    float64\n",
      " 6   CPI           138 non-null    float64\n",
      " 7   Unemployment  135 non-null    float64\n",
      "dtypes: float64(7), object(1)\n",
      "memory usage: 9.5+ KB\n"
     ]
    }
   ],
   "source": [
    "# Basic stats\n",
    "print(\"Number of rows and columns: {}\".format(dataset.shape))\n",
    "print()\n",
    "\n",
    "print(\"Display of dataset: \")\n",
    "display(dataset.head())\n",
    "print()\n",
    "\n",
    "print(\"Basics statistics: \")\n",
    "data_desc = dataset.describe(include='all')\n",
    "display(data_desc)\n",
    "print()\n",
    "print(\"Percentage of missing values: \")\n",
    "display(100*dataset.isnull().sum()/dataset.shape[0])# ça nous permet de calculer le pourcentage de valeur nulles par colonne\n",
    "dataset.info()"
   ]
  },
  {
   "cell_type": "code",
   "execution_count": 4,
   "metadata": {},
   "outputs": [],
   "source": [
    "dataset=dataset.dropna(subset=[\"Weekly_Sales\"]) #supprimer les lignes vides de Y\n",
    "#Nous n'utilisons jamais de techniques d'imputation sur la cible cela pourrait créer un biais dans les prédictions !\n",
    "#nous allons simplement supprimer les lignes de l'ensemble de données pour lesquelles la valeur dans Weekly_Sales est manquante."
   ]
  },
  {
   "cell_type": "code",
   "execution_count": 5,
   "metadata": {},
   "outputs": [
    {
     "data": {
      "text/plain": [
       "0.0    127\n",
       "1.0      9\n",
       "Name: Holiday_Flag, dtype: int64"
      ]
     },
     "execution_count": 5,
     "metadata": {},
     "output_type": "execute_result"
    }
   ],
   "source": [
    "dataset['Holiday_Flag'] = dataset['Holiday_Flag'].fillna(0)\n",
    "dataset['Holiday_Flag'].value_counts()\n",
    "# on va remplacer les valeurs NAN par 0 qui est la valeur la plus fréquente"
   ]
  },
  {
   "cell_type": "code",
   "execution_count": 6,
   "metadata": {},
   "outputs": [
    {
     "name": "stdout",
     "output_type": "stream",
     "text": [
      "<class 'pandas.core.frame.DataFrame'>\n",
      "Int64Index: 136 entries, 0 to 149\n",
      "Data columns (total 8 columns):\n",
      " #   Column        Non-Null Count  Dtype  \n",
      "---  ------        --------------  -----  \n",
      " 0   Store         136 non-null    float64\n",
      " 1   Date          118 non-null    object \n",
      " 2   Weekly_Sales  136 non-null    float64\n",
      " 3   Holiday_Flag  136 non-null    float64\n",
      " 4   Temperature   121 non-null    float64\n",
      " 5   Fuel_Price    124 non-null    float64\n",
      " 6   CPI           125 non-null    float64\n",
      " 7   Unemployment  122 non-null    float64\n",
      "dtypes: float64(7), object(1)\n",
      "memory usage: 9.6+ KB\n"
     ]
    }
   ],
   "source": [
    "dataset.info()"
   ]
  },
  {
   "cell_type": "code",
   "execution_count": 7,
   "metadata": {},
   "outputs": [
    {
     "name": "stdout",
     "output_type": "stream",
     "text": [
      "Dropping outliers for Temperature...\n",
      "Done. Number of lines remaining :  121\n",
      "\n",
      "Dropping outliers for Fuel_Price...\n",
      "Done. Number of lines remaining :  109\n",
      "\n",
      "Dropping outliers for CPI...\n",
      "Done. Number of lines remaining :  102\n",
      "\n",
      "Dropping outliers for Unemployment...\n",
      "Done. Number of lines remaining :  90\n",
      "\n"
     ]
    }
   ],
   "source": [
    "# Drop lines containing outliers (using masks)\n",
    "print('Dropping outliers for Temperature...')\n",
    "to_keep = (dataset['Temperature'] < dataset['Temperature'].mean() + 3*dataset['Temperature'].std())& (dataset['Temperature'] > dataset['Temperature'].mean() - 3*dataset['Temperature'].std())\n",
    "dataset = dataset.loc[to_keep,:]\n",
    "dataset = dataset.loc[to_keep,:]\n",
    "print('Done. Number of lines remaining : ', dataset.shape[0])\n",
    "print()\n",
    "\n",
    "print('Dropping outliers for Fuel_Price...')\n",
    "to_keep = (dataset['Fuel_Price'] < dataset['Fuel_Price'].mean() + 3*dataset['Fuel_Price'].std()) & (dataset['Fuel_Price'] > dataset['Fuel_Price'].mean() - 3*dataset['Fuel_Price'].std())\n",
    "dataset = dataset.loc[to_keep,:]\n",
    "print('Done. Number of lines remaining : ', dataset.shape[0])\n",
    "print()\n",
    "\n",
    "print('Dropping outliers for CPI...')\n",
    "to_keep = (dataset['CPI'] < dataset['CPI'].mean() + 3*dataset['CPI'].std())&(dataset['CPI'] > dataset['CPI'].mean() - 3*dataset['CPI'].std())\n",
    "dataset = dataset.loc[to_keep,:]\n",
    "print('Done. Number of lines remaining : ', dataset.shape[0])\n",
    "print()\n",
    "\n",
    "print('Dropping outliers for Unemployment...')\n",
    "to_keep = (dataset['Unemployment'] < dataset['Unemployment'].mean() + 3*dataset['Unemployment'].std())&(dataset['Unemployment'] > dataset['Unemployment'].mean() - 3*dataset['Unemployment'].std())\n",
    "dataset = dataset.loc[to_keep,:]\n",
    "print('Done. Number of lines remaining : ', dataset.shape[0])\n",
    "print()\n",
    "\n",
    "# Lecture du masque: je veux garder le taux de chômage qui soit inférieur à la moyenne du taux de chômage + 3 fois écart type et qui soit supérieur\n",
    "# à la moyenne du taux chômage - 3 fois de l'écart type. "
   ]
  },
  {
   "cell_type": "code",
   "execution_count": 9,
   "metadata": {},
   "outputs": [
    {
     "data": {
      "image/png": "[encoded data removed]",
      "text/plain": [
       "<Figure size 432x288 with 1 Axes>"
      ]
     },
     "metadata": {
      "needs_background": "light"
     },
     "output_type": "display_data"
    },
    {
     "data": {
      "image/png": "[encoded data removed]",
      "text/plain": [
       "<Figure size 432x288 with 1 Axes>"
      ]
     },
     "metadata": {
      "needs_background": "light"
     },
     "output_type": "display_data"
    },
    {
     "data": {
      "image/png": "[encoded data removed]",
      "text/plain": [
       "<Figure size 432x288 with 1 Axes>"
      ]
     },
     "metadata": {
      "needs_background": "light"
     },
     "output_type": "display_data"
    },
    {
     "data": {
      "image/png": "[encoded data removed]",
      "text/plain": [
       "<Figure size 432x288 with 1 Axes>"
      ]
     },
     "metadata": {
      "needs_background": "light"
     },
     "output_type": "display_data"
    }
   ],
   "source": [
    "cols= [\"Temperature\",\"Fuel_Price\",\"CPI\",\"Unemployment\"]\n",
    "for k in cols:\n",
    "    plt.figure()\n",
    "    sns.boxplot(y=dataset[k])\n",
    "    plt.show()\n",
    "# la visualisation de boxplot nous permet de vérifier qu'il n'y a plus de valeurs abérrantes "
   ]
  },
  {
   "cell_type": "code",
   "execution_count": 10,
   "metadata": {},
   "outputs": [
    {
     "name": "stdout",
     "output_type": "stream",
     "text": [
      "<class 'pandas.core.frame.DataFrame'>\n",
      "Int64Index: 90 entries, 0 to 149\n",
      "Data columns (total 8 columns):\n",
      " #   Column        Non-Null Count  Dtype  \n",
      "---  ------        --------------  -----  \n",
      " 0   Store         90 non-null     float64\n",
      " 1   Date          80 non-null     object \n",
      " 2   Weekly_Sales  90 non-null     float64\n",
      " 3   Holiday_Flag  90 non-null     float64\n",
      " 4   Temperature   90 non-null     float64\n",
      " 5   Fuel_Price    90 non-null     float64\n",
      " 6   CPI           90 non-null     float64\n",
      " 7   Unemployment  90 non-null     float64\n",
      "dtypes: float64(7), object(1)\n",
      "memory usage: 6.3+ KB\n"
     ]
    }
   ],
   "source": [
    "dataset.info()"
   ]
  },
  {
   "cell_type": "code",
   "execution_count": 8,
   "metadata": {},
   "outputs": [
    {
     "data": {
      "text/plain": [
       "0     2011-02-18\n",
       "1     2011-03-25\n",
       "4     2010-05-28\n",
       "6     2011-03-06\n",
       "7     2012-03-02\n",
       "         ...    \n",
       "139   2012-05-25\n",
       "143   2010-04-06\n",
       "144   2012-10-19\n",
       "145   2010-06-18\n",
       "149   2012-04-20\n",
       "Name: Date, Length: 90, dtype: datetime64[ns]"
      ]
     },
     "execution_count": 8,
     "metadata": {},
     "output_type": "execute_result"
    }
   ],
   "source": [
    "dataset['Date'] = pd.to_datetime(dataset['Date'])\n",
    "dataset['Date']\n",
    "# je convertis la colonne Date en datetime"
   ]
  },
  {
   "cell_type": "code",
   "execution_count": 9,
   "metadata": {},
   "outputs": [
    {
     "data": {
      "text/html": [
       "<div>\n",
       "<style scoped>\n",
       "    .dataframe tbody tr th:only-of-type {\n",
       "        vertical-align: middle;\n",
       "    }\n",
       "\n",
       "    .dataframe tbody tr th {\n",
       "        vertical-align: top;\n",
       "    }\n",
       "\n",
       "    .dataframe thead th {\n",
       "        text-align: right;\n",
       "    }\n",
       "</style>\n",
       "<table border=\"1\" class=\"dataframe\">\n",
       "  <thead>\n",
       "    <tr style=\"text-align: right;\">\n",
       "      <th></th>\n",
       "      <th>Store</th>\n",
       "      <th>Weekly_Sales</th>\n",
       "      <th>Holiday_Flag</th>\n",
       "      <th>Temperature</th>\n",
       "      <th>Fuel_Price</th>\n",
       "      <th>CPI</th>\n",
       "      <th>Unemployment</th>\n",
       "      <th>year</th>\n",
       "      <th>month</th>\n",
       "      <th>day</th>\n",
       "      <th>weekday</th>\n",
       "      <th>dayofweek</th>\n",
       "      <th>nameofmonth</th>\n",
       "    </tr>\n",
       "  </thead>\n",
       "  <tbody>\n",
       "    <tr>\n",
       "      <th>0</th>\n",
       "      <td>6.0</td>\n",
       "      <td>1572117.54</td>\n",
       "      <td>0.0</td>\n",
       "      <td>59.61</td>\n",
       "      <td>3.045</td>\n",
       "      <td>214.777523</td>\n",
       "      <td>6.858</td>\n",
       "      <td>2011.0</td>\n",
       "      <td>2.0</td>\n",
       "      <td>18.0</td>\n",
       "      <td>4.0</td>\n",
       "      <td>Friday</td>\n",
       "      <td>February</td>\n",
       "    </tr>\n",
       "    <tr>\n",
       "      <th>1</th>\n",
       "      <td>13.0</td>\n",
       "      <td>1807545.43</td>\n",
       "      <td>0.0</td>\n",
       "      <td>42.38</td>\n",
       "      <td>3.435</td>\n",
       "      <td>128.616064</td>\n",
       "      <td>7.470</td>\n",
       "      <td>2011.0</td>\n",
       "      <td>3.0</td>\n",
       "      <td>25.0</td>\n",
       "      <td>4.0</td>\n",
       "      <td>Friday</td>\n",
       "      <td>March</td>\n",
       "    </tr>\n",
       "    <tr>\n",
       "      <th>4</th>\n",
       "      <td>6.0</td>\n",
       "      <td>1644470.66</td>\n",
       "      <td>0.0</td>\n",
       "      <td>78.89</td>\n",
       "      <td>2.759</td>\n",
       "      <td>212.412888</td>\n",
       "      <td>7.092</td>\n",
       "      <td>2010.0</td>\n",
       "      <td>5.0</td>\n",
       "      <td>28.0</td>\n",
       "      <td>4.0</td>\n",
       "      <td>Friday</td>\n",
       "      <td>May</td>\n",
       "    </tr>\n",
       "    <tr>\n",
       "      <th>6</th>\n",
       "      <td>15.0</td>\n",
       "      <td>695396.19</td>\n",
       "      <td>0.0</td>\n",
       "      <td>69.80</td>\n",
       "      <td>4.069</td>\n",
       "      <td>134.855161</td>\n",
       "      <td>7.658</td>\n",
       "      <td>2011.0</td>\n",
       "      <td>3.0</td>\n",
       "      <td>6.0</td>\n",
       "      <td>6.0</td>\n",
       "      <td>Sunday</td>\n",
       "      <td>March</td>\n",
       "    </tr>\n",
       "    <tr>\n",
       "      <th>7</th>\n",
       "      <td>20.0</td>\n",
       "      <td>2203523.20</td>\n",
       "      <td>0.0</td>\n",
       "      <td>39.93</td>\n",
       "      <td>3.617</td>\n",
       "      <td>213.023623</td>\n",
       "      <td>6.961</td>\n",
       "      <td>2012.0</td>\n",
       "      <td>3.0</td>\n",
       "      <td>2.0</td>\n",
       "      <td>4.0</td>\n",
       "      <td>Friday</td>\n",
       "      <td>March</td>\n",
       "    </tr>\n",
       "  </tbody>\n",
       "</table>\n",
       "</div>"
      ],
      "text/plain": [
       "   Store  Weekly_Sales  Holiday_Flag  Temperature  Fuel_Price         CPI  \\\n",
       "0    6.0    1572117.54           0.0        59.61       3.045  214.777523   \n",
       "1   13.0    1807545.43           0.0        42.38       3.435  128.616064   \n",
       "4    6.0    1644470.66           0.0        78.89       2.759  212.412888   \n",
       "6   15.0     695396.19           0.0        69.80       4.069  134.855161   \n",
       "7   20.0    2203523.20           0.0        39.93       3.617  213.023623   \n",
       "\n",
       "   Unemployment    year  month   day  weekday dayofweek nameofmonth  \n",
       "0         6.858  2011.0    2.0  18.0      4.0    Friday    February  \n",
       "1         7.470  2011.0    3.0  25.0      4.0    Friday       March  \n",
       "4         7.092  2010.0    5.0  28.0      4.0    Friday         May  \n",
       "6         7.658  2011.0    3.0   6.0      6.0    Sunday       March  \n",
       "7         6.961  2012.0    3.0   2.0      4.0    Friday       March  "
      ]
     },
     "execution_count": 9,
     "metadata": {},
     "output_type": "execute_result"
    }
   ],
   "source": [
    "dataset['year'] = dataset['Date'].dt.year\n",
    "dataset['month']=dataset['Date'].dt.month\n",
    "dataset['day']=dataset['Date'].dt.day\n",
    "dataset['weekday'] = dataset['Date'].dt.dayofweek #(0 pr lundi et 6 pr dimanche)\n",
    "dataset['dayofweek'] = dataset['Date'].dt.day_name()\n",
    "dataset['nameofmonth'] = dataset['Date'].dt.month_name()\n",
    "dataset=dataset.drop(columns=\"Date\",axis=1)\n",
    "dataset.head()"
   ]
  },
  {
   "cell_type": "code",
   "execution_count": 13,
   "metadata": {},
   "outputs": [
    {
     "name": "stdout",
     "output_type": "stream",
     "text": [
      "<class 'pandas.core.frame.DataFrame'>\n",
      "Int64Index: 90 entries, 0 to 149\n",
      "Data columns (total 13 columns):\n",
      " #   Column        Non-Null Count  Dtype  \n",
      "---  ------        --------------  -----  \n",
      " 0   Store         90 non-null     float64\n",
      " 1   Weekly_Sales  90 non-null     float64\n",
      " 2   Holiday_Flag  90 non-null     float64\n",
      " 3   Temperature   90 non-null     float64\n",
      " 4   Fuel_Price    90 non-null     float64\n",
      " 5   CPI           90 non-null     float64\n",
      " 6   Unemployment  90 non-null     float64\n",
      " 7   year          80 non-null     float64\n",
      " 8   month         80 non-null     float64\n",
      " 9   day           80 non-null     float64\n",
      " 10  weekday       80 non-null     float64\n",
      " 11  dayofweek     80 non-null     object \n",
      " 12  nameofmonth   80 non-null     object \n",
      "dtypes: float64(11), object(2)\n",
      "memory usage: 9.8+ KB\n"
     ]
    }
   ],
   "source": [
    "dataset.info()"
   ]
  },
  {
   "cell_type": "markdown",
   "metadata": {},
   "source": [
    "Visualisation"
   ]
  },
  {
   "cell_type": "code",
   "execution_count": 14,
   "metadata": {},
   "outputs": [
    {
     "data": {
      "text/html": [
       "<iframe\n",
       "    scrolling=\"no\"\n",
       "    width=\"100%\"\n",
       "    height=\"545px\"\n",
       "    src=\"iframe_figures/figure_14.html\"\n",
       "    frameborder=\"0\"\n",
       "    allowfullscreen\n",
       "></iframe>\n"
      ]
     },
     "metadata": {},
     "output_type": "display_data"
    }
   ],
   "source": [
    "dataset_quanti=dataset[[\"Weekly_Sales\",\"Temperature\",\"Fuel_Price\",\"CPI\",\"Unemployment\",\"year\",\"month\",\"weekday\"]]\n",
    "\n",
    "corr_matrix = round(dataset_quanti.corr(),3)\n",
    "\n",
    "import plotly.figure_factory as ff\n",
    "\n",
    "fig = ff.create_annotated_heatmap(corr_matrix.values,\n",
    "                                  x = corr_matrix.columns.values.tolist(),\n",
    "                                  y = corr_matrix.index.values.tolist())\n",
    "fig.show()\n",
    "# il est utile de vérifier les corrélations non seulement entre les features mais aussi entre une feature et ma target, plus j'identifie\n",
    "# qu'une feature et corrélée à ma target plus ça va me donner un indice que ma regression va marcher\n",
    "# La corrélation on ne peut la calculer que entre les quantis, on peut dire qu'il y a une corrélation positive entre weekly_sales,\n",
    "# weekday et l'unemployment."
   ]
  },
  {
   "cell_type": "code",
   "execution_count": 15,
   "metadata": {},
   "outputs": [
    {
     "data": {
      "text/html": [
       "<iframe\n",
       "    scrolling=\"no\"\n",
       "    width=\"100%\"\n",
       "    height=\"545px\"\n",
       "    src=\"iframe_figures/figure_15.html\"\n",
       "    frameborder=\"0\"\n",
       "    allowfullscreen\n",
       "></iframe>\n"
      ]
     },
     "metadata": {},
     "output_type": "display_data"
    }
   ],
   "source": [
    "px.scatter(dataset, x = 'Unemployment', y = 'Weekly_Sales')"
   ]
  },
  {
   "cell_type": "code",
   "execution_count": 16,
   "metadata": {},
   "outputs": [],
   "source": [
    "day_order = [\"Monday\", \"Tuesday\", \"Wednesday\", \"Thursday\", \"Friday\", \"Saturday\", \"Sunday\"]"
   ]
  },
  {
   "cell_type": "code",
   "execution_count": 17,
   "metadata": {},
   "outputs": [
    {
     "data": {
      "image/png": "[encoded data removed]",
      "text/plain": [
       "<Figure size 1080x576 with 1 Axes>"
      ]
     },
     "metadata": {
      "needs_background": "light"
     },
     "output_type": "display_data"
    }
   ],
   "source": [
    "plt.figure(figsize=(15,8))\n",
    "sns.countplot(data=dataset, x='dayofweek',order=day_order)\n",
    "plt.xticks(fontsize = 12)\n",
    "plt.yticks(fontsize = 12)\n",
    "plt.xlabel(\"La date\",labelpad = 12, fontsize = 13)\n",
    "plt.ylabel(\"Nombre de ventes\",labelpad = 12, fontsize = 13)\n",
    "plt.show()"
   ]
  },
  {
   "cell_type": "code",
   "execution_count": 18,
   "metadata": {},
   "outputs": [
    {
     "data": {
      "image/png": "[encoded data removed]",
      "text/plain": [
       "<Figure size 1080x576 with 1 Axes>"
      ]
     },
     "metadata": {
      "needs_background": "light"
     },
     "output_type": "display_data"
    }
   ],
   "source": [
    "plt.figure(figsize=(15,8))\n",
    "sns.countplot(data=dataset, x='nameofmonth')\n",
    "plt.xticks(fontsize = 12)\n",
    "plt.yticks(fontsize = 12)\n",
    "plt.xlabel(\"Le mois\",labelpad = 12, fontsize = 13)\n",
    "plt.ylabel(\"Nombre de ventes\",labelpad = 12, fontsize = 13)\n",
    "plt.show()\n",
    "# au mois de Mars y a le plus de vente "
   ]
  },
  {
   "cell_type": "code",
   "execution_count": 19,
   "metadata": {},
   "outputs": [
    {
     "data": {
      "text/plain": [
       "<AxesSubplot:ylabel='Weekly_Sales'>"
      ]
     },
     "execution_count": 19,
     "metadata": {},
     "output_type": "execute_result"
    },
    {
     "data": {
      "image/png": "[encoded data removed]",
      "text/plain": [
       "<Figure size 432x288 with 1 Axes>"
      ]
     },
     "metadata": {},
     "output_type": "display_data"
    }
   ],
   "source": [
    "year_count = dataset.groupby([\"year\"])[\"Weekly_Sales\"].sum()\n",
    "year_count.plot.pie(autopct=\"%.1f%%\", startangle=40, textprops={'fontsize': 12})"
   ]
  },
  {
   "cell_type": "code",
   "execution_count": 20,
   "metadata": {},
   "outputs": [
    {
     "data": {
      "text/html": [
       "<iframe\n",
       "    scrolling=\"no\"\n",
       "    width=\"100%\"\n",
       "    height=\"520\"\n",
       "    src=\"iframe_figures/figure_20.html\"\n",
       "    frameborder=\"0\"\n",
       "    allowfullscreen\n",
       "></iframe>\n"
      ]
     },
     "metadata": {},
     "output_type": "display_data"
    }
   ],
   "source": [
    "# Univariate analysis\n",
    "from plotly.subplots import make_subplots\n",
    "\n",
    "# Distribution of each numeric variable\n",
    "num_features = ['Temperature', 'Fuel_Price','CPI','Unemployment']\n",
    "#pour chacun des features \n",
    "fig1 = make_subplots(rows = len(num_features), cols = 1, subplot_titles = num_features)\n",
    "for i in range(len(num_features)):\n",
    "    fig1.add_trace(\n",
    "        go.Histogram(\n",
    "            x = dataset[num_features[i]], nbinsx = 15),\n",
    "        row = i + 1,\n",
    "        col = 1)\n",
    "fig1.update_layout(\n",
    "        title = go.layout.Title(text = \"Distribution of quantitative variables\", x = 0.5), showlegend = False, \n",
    "            autosize=False, height=500)\n",
    "fig1.show()\n",
    "# il boucle sur les features quantitative et fait un histogramme"
   ]
  },
  {
   "cell_type": "code",
   "execution_count": 21,
   "metadata": {},
   "outputs": [
    {
     "data": {
      "text/html": [
       "<iframe\n",
       "    scrolling=\"no\"\n",
       "    width=\"100%\"\n",
       "    height=\"520\"\n",
       "    src=\"iframe_figures/figure_21.html\"\n",
       "    frameborder=\"0\"\n",
       "    allowfullscreen\n",
       "></iframe>\n"
      ]
     },
     "metadata": {},
     "output_type": "display_data"
    }
   ],
   "source": [
    "# Univariate analysis\n",
    "from plotly.subplots import make_subplots\n",
    "\n",
    "# Barplot of each qualitative variable\n",
    "cat_features = ['Store', 'Holiday_Flag']\n",
    "fig2 = make_subplots(rows = len(cat_features), cols = 1, subplot_titles = cat_features)\n",
    "for i in range(len(cat_features)):\n",
    "    \n",
    "    x_coords = dataset[cat_features[i]].value_counts().index.tolist()\n",
    "    y_coords = dataset[cat_features[i]].value_counts().tolist()\n",
    "    \n",
    "    fig2.add_trace(\n",
    "        go.Bar(\n",
    "            x = x_coords,\n",
    "            y = y_coords),\n",
    "        row = i + 1,\n",
    "        col = 1)\n",
    "fig2.update_layout(\n",
    "        title = go.layout.Title(text = \"Barplot of qualitative variables\", x = 0.5), showlegend = False, \n",
    "            autosize=False, height=500)\n",
    "fig2.show()\n",
    "# il boucle sur la liste des feautures catégorielles et pr chaque feature il va faire un barplot qui nous aide avoir s'il y a une \n",
    "# modalité qui est plus représenté qu'une autre on peut dire que le store 3 travaille le mieux et qu'il y a peu de jours fériés  "
   ]
  },
  {
   "cell_type": "raw",
   "metadata": {},
   "source": [
    "- Taget variable : Y = 'Weekly_Sales '\n",
    "- Variables catégorielles : Store, Holiday_Flag\n",
    "- Variables numériques : Température, Fuel_Price, CPI, Chômage, Année, Mois, Jour, DayOfWeek\n"
   ]
  },
  {
   "cell_type": "markdown",
   "metadata": {},
   "source": [
    "Preprocessing - Pandas 🐼🐼"
   ]
  },
  {
   "cell_type": "code",
   "execution_count": 10,
   "metadata": {},
   "outputs": [],
   "source": [
    "dataset=dataset[[\"Store\",\"Weekly_Sales\",\"Holiday_Flag\",\"Temperature\",\"Fuel_Price\",\"CPI\",\"Unemployment\",\"year\",\"month\",\"weekday\"]]"
   ]
  },
  {
   "cell_type": "code",
   "execution_count": 11,
   "metadata": {},
   "outputs": [],
   "source": [
    "def onehot_encoode(df,column,prefix):\n",
    "    dummies=pd.get_dummies(dataset[column],prefix=prefix)\n",
    "    df=pd.concat([df,dummies],axis=1)\n",
    "    df=df.drop(column,axis=1)\n",
    "    return df\n",
    "# C'est la fonction qui va nous permettre d'encoder les stores et de supprimer la colonne de trop"
   ]
  },
  {
   "cell_type": "code",
   "execution_count": 12,
   "metadata": {},
   "outputs": [
    {
     "data": {
      "text/html": [
       "<div>\n",
       "<style scoped>\n",
       "    .dataframe tbody tr th:only-of-type {\n",
       "        vertical-align: middle;\n",
       "    }\n",
       "\n",
       "    .dataframe tbody tr th {\n",
       "        vertical-align: top;\n",
       "    }\n",
       "\n",
       "    .dataframe thead th {\n",
       "        text-align: right;\n",
       "    }\n",
       "</style>\n",
       "<table border=\"1\" class=\"dataframe\">\n",
       "  <thead>\n",
       "    <tr style=\"text-align: right;\">\n",
       "      <th></th>\n",
       "      <th>Weekly_Sales</th>\n",
       "      <th>Holiday_Flag</th>\n",
       "      <th>Temperature</th>\n",
       "      <th>Fuel_Price</th>\n",
       "      <th>CPI</th>\n",
       "      <th>Unemployment</th>\n",
       "      <th>year</th>\n",
       "      <th>month</th>\n",
       "      <th>weekday</th>\n",
       "      <th>Sotre_1.0</th>\n",
       "      <th>...</th>\n",
       "      <th>Sotre_10.0</th>\n",
       "      <th>Sotre_11.0</th>\n",
       "      <th>Sotre_13.0</th>\n",
       "      <th>Sotre_14.0</th>\n",
       "      <th>Sotre_15.0</th>\n",
       "      <th>Sotre_16.0</th>\n",
       "      <th>Sotre_17.0</th>\n",
       "      <th>Sotre_18.0</th>\n",
       "      <th>Sotre_19.0</th>\n",
       "      <th>Sotre_20.0</th>\n",
       "    </tr>\n",
       "  </thead>\n",
       "  <tbody>\n",
       "    <tr>\n",
       "      <th>0</th>\n",
       "      <td>1572117.54</td>\n",
       "      <td>0.0</td>\n",
       "      <td>59.61</td>\n",
       "      <td>3.045</td>\n",
       "      <td>214.777523</td>\n",
       "      <td>6.858</td>\n",
       "      <td>2011.0</td>\n",
       "      <td>2.0</td>\n",
       "      <td>4.0</td>\n",
       "      <td>0</td>\n",
       "      <td>...</td>\n",
       "      <td>0</td>\n",
       "      <td>0</td>\n",
       "      <td>0</td>\n",
       "      <td>0</td>\n",
       "      <td>0</td>\n",
       "      <td>0</td>\n",
       "      <td>0</td>\n",
       "      <td>0</td>\n",
       "      <td>0</td>\n",
       "      <td>0</td>\n",
       "    </tr>\n",
       "    <tr>\n",
       "      <th>1</th>\n",
       "      <td>1807545.43</td>\n",
       "      <td>0.0</td>\n",
       "      <td>42.38</td>\n",
       "      <td>3.435</td>\n",
       "      <td>128.616064</td>\n",
       "      <td>7.470</td>\n",
       "      <td>2011.0</td>\n",
       "      <td>3.0</td>\n",
       "      <td>4.0</td>\n",
       "      <td>0</td>\n",
       "      <td>...</td>\n",
       "      <td>0</td>\n",
       "      <td>0</td>\n",
       "      <td>1</td>\n",
       "      <td>0</td>\n",
       "      <td>0</td>\n",
       "      <td>0</td>\n",
       "      <td>0</td>\n",
       "      <td>0</td>\n",
       "      <td>0</td>\n",
       "      <td>0</td>\n",
       "    </tr>\n",
       "    <tr>\n",
       "      <th>4</th>\n",
       "      <td>1644470.66</td>\n",
       "      <td>0.0</td>\n",
       "      <td>78.89</td>\n",
       "      <td>2.759</td>\n",
       "      <td>212.412888</td>\n",
       "      <td>7.092</td>\n",
       "      <td>2010.0</td>\n",
       "      <td>5.0</td>\n",
       "      <td>4.0</td>\n",
       "      <td>0</td>\n",
       "      <td>...</td>\n",
       "      <td>0</td>\n",
       "      <td>0</td>\n",
       "      <td>0</td>\n",
       "      <td>0</td>\n",
       "      <td>0</td>\n",
       "      <td>0</td>\n",
       "      <td>0</td>\n",
       "      <td>0</td>\n",
       "      <td>0</td>\n",
       "      <td>0</td>\n",
       "    </tr>\n",
       "    <tr>\n",
       "      <th>6</th>\n",
       "      <td>695396.19</td>\n",
       "      <td>0.0</td>\n",
       "      <td>69.80</td>\n",
       "      <td>4.069</td>\n",
       "      <td>134.855161</td>\n",
       "      <td>7.658</td>\n",
       "      <td>2011.0</td>\n",
       "      <td>3.0</td>\n",
       "      <td>6.0</td>\n",
       "      <td>0</td>\n",
       "      <td>...</td>\n",
       "      <td>0</td>\n",
       "      <td>0</td>\n",
       "      <td>0</td>\n",
       "      <td>0</td>\n",
       "      <td>1</td>\n",
       "      <td>0</td>\n",
       "      <td>0</td>\n",
       "      <td>0</td>\n",
       "      <td>0</td>\n",
       "      <td>0</td>\n",
       "    </tr>\n",
       "    <tr>\n",
       "      <th>7</th>\n",
       "      <td>2203523.20</td>\n",
       "      <td>0.0</td>\n",
       "      <td>39.93</td>\n",
       "      <td>3.617</td>\n",
       "      <td>213.023623</td>\n",
       "      <td>6.961</td>\n",
       "      <td>2012.0</td>\n",
       "      <td>3.0</td>\n",
       "      <td>4.0</td>\n",
       "      <td>0</td>\n",
       "      <td>...</td>\n",
       "      <td>0</td>\n",
       "      <td>0</td>\n",
       "      <td>0</td>\n",
       "      <td>0</td>\n",
       "      <td>0</td>\n",
       "      <td>0</td>\n",
       "      <td>0</td>\n",
       "      <td>0</td>\n",
       "      <td>0</td>\n",
       "      <td>1</td>\n",
       "    </tr>\n",
       "    <tr>\n",
       "      <th>...</th>\n",
       "      <td>...</td>\n",
       "      <td>...</td>\n",
       "      <td>...</td>\n",
       "      <td>...</td>\n",
       "      <td>...</td>\n",
       "      <td>...</td>\n",
       "      <td>...</td>\n",
       "      <td>...</td>\n",
       "      <td>...</td>\n",
       "      <td>...</td>\n",
       "      <td>...</td>\n",
       "      <td>...</td>\n",
       "      <td>...</td>\n",
       "      <td>...</td>\n",
       "      <td>...</td>\n",
       "      <td>...</td>\n",
       "      <td>...</td>\n",
       "      <td>...</td>\n",
       "      <td>...</td>\n",
       "      <td>...</td>\n",
       "      <td>...</td>\n",
       "    </tr>\n",
       "    <tr>\n",
       "      <th>139</th>\n",
       "      <td>532739.77</td>\n",
       "      <td>0.0</td>\n",
       "      <td>50.60</td>\n",
       "      <td>3.804</td>\n",
       "      <td>197.588605</td>\n",
       "      <td>8.090</td>\n",
       "      <td>2012.0</td>\n",
       "      <td>5.0</td>\n",
       "      <td>4.0</td>\n",
       "      <td>0</td>\n",
       "      <td>...</td>\n",
       "      <td>0</td>\n",
       "      <td>0</td>\n",
       "      <td>0</td>\n",
       "      <td>0</td>\n",
       "      <td>0</td>\n",
       "      <td>0</td>\n",
       "      <td>0</td>\n",
       "      <td>0</td>\n",
       "      <td>0</td>\n",
       "      <td>0</td>\n",
       "    </tr>\n",
       "    <tr>\n",
       "      <th>143</th>\n",
       "      <td>396968.80</td>\n",
       "      <td>0.0</td>\n",
       "      <td>78.53</td>\n",
       "      <td>2.705</td>\n",
       "      <td>214.495838</td>\n",
       "      <td>7.343</td>\n",
       "      <td>2010.0</td>\n",
       "      <td>4.0</td>\n",
       "      <td>1.0</td>\n",
       "      <td>0</td>\n",
       "      <td>...</td>\n",
       "      <td>0</td>\n",
       "      <td>0</td>\n",
       "      <td>0</td>\n",
       "      <td>0</td>\n",
       "      <td>0</td>\n",
       "      <td>0</td>\n",
       "      <td>0</td>\n",
       "      <td>0</td>\n",
       "      <td>0</td>\n",
       "      <td>0</td>\n",
       "    </tr>\n",
       "    <tr>\n",
       "      <th>144</th>\n",
       "      <td>424513.08</td>\n",
       "      <td>0.0</td>\n",
       "      <td>73.44</td>\n",
       "      <td>3.594</td>\n",
       "      <td>226.968844</td>\n",
       "      <td>6.034</td>\n",
       "      <td>2012.0</td>\n",
       "      <td>10.0</td>\n",
       "      <td>4.0</td>\n",
       "      <td>0</td>\n",
       "      <td>...</td>\n",
       "      <td>0</td>\n",
       "      <td>0</td>\n",
       "      <td>0</td>\n",
       "      <td>0</td>\n",
       "      <td>0</td>\n",
       "      <td>0</td>\n",
       "      <td>0</td>\n",
       "      <td>0</td>\n",
       "      <td>0</td>\n",
       "      <td>0</td>\n",
       "    </tr>\n",
       "    <tr>\n",
       "      <th>145</th>\n",
       "      <td>2248645.59</td>\n",
       "      <td>0.0</td>\n",
       "      <td>72.62</td>\n",
       "      <td>2.780</td>\n",
       "      <td>182.442420</td>\n",
       "      <td>8.899</td>\n",
       "      <td>2010.0</td>\n",
       "      <td>6.0</td>\n",
       "      <td>4.0</td>\n",
       "      <td>0</td>\n",
       "      <td>...</td>\n",
       "      <td>0</td>\n",
       "      <td>0</td>\n",
       "      <td>0</td>\n",
       "      <td>1</td>\n",
       "      <td>0</td>\n",
       "      <td>0</td>\n",
       "      <td>0</td>\n",
       "      <td>0</td>\n",
       "      <td>0</td>\n",
       "      <td>0</td>\n",
       "    </tr>\n",
       "    <tr>\n",
       "      <th>149</th>\n",
       "      <td>1255087.26</td>\n",
       "      <td>0.0</td>\n",
       "      <td>55.20</td>\n",
       "      <td>4.170</td>\n",
       "      <td>137.923067</td>\n",
       "      <td>8.150</td>\n",
       "      <td>2012.0</td>\n",
       "      <td>4.0</td>\n",
       "      <td>4.0</td>\n",
       "      <td>0</td>\n",
       "      <td>...</td>\n",
       "      <td>0</td>\n",
       "      <td>0</td>\n",
       "      <td>0</td>\n",
       "      <td>0</td>\n",
       "      <td>0</td>\n",
       "      <td>0</td>\n",
       "      <td>0</td>\n",
       "      <td>0</td>\n",
       "      <td>1</td>\n",
       "      <td>0</td>\n",
       "    </tr>\n",
       "  </tbody>\n",
       "</table>\n",
       "<p>90 rows × 28 columns</p>\n",
       "</div>"
      ],
      "text/plain": [
       "     Weekly_Sales  Holiday_Flag  Temperature  Fuel_Price         CPI  \\\n",
       "0      1572117.54           0.0        59.61       3.045  214.777523   \n",
       "1      1807545.43           0.0        42.38       3.435  128.616064   \n",
       "4      1644470.66           0.0        78.89       2.759  212.412888   \n",
       "6       695396.19           0.0        69.80       4.069  134.855161   \n",
       "7      2203523.20           0.0        39.93       3.617  213.023623   \n",
       "..            ...           ...          ...         ...         ...   \n",
       "139     532739.77           0.0        50.60       3.804  197.588605   \n",
       "143     396968.80           0.0        78.53       2.705  214.495838   \n",
       "144     424513.08           0.0        73.44       3.594  226.968844   \n",
       "145    2248645.59           0.0        72.62       2.780  182.442420   \n",
       "149    1255087.26           0.0        55.20       4.170  137.923067   \n",
       "\n",
       "     Unemployment    year  month  weekday  Sotre_1.0  ...  Sotre_10.0  \\\n",
       "0           6.858  2011.0    2.0      4.0          0  ...           0   \n",
       "1           7.470  2011.0    3.0      4.0          0  ...           0   \n",
       "4           7.092  2010.0    5.0      4.0          0  ...           0   \n",
       "6           7.658  2011.0    3.0      6.0          0  ...           0   \n",
       "7           6.961  2012.0    3.0      4.0          0  ...           0   \n",
       "..            ...     ...    ...      ...        ...  ...         ...   \n",
       "139         8.090  2012.0    5.0      4.0          0  ...           0   \n",
       "143         7.343  2010.0    4.0      1.0          0  ...           0   \n",
       "144         6.034  2012.0   10.0      4.0          0  ...           0   \n",
       "145         8.899  2010.0    6.0      4.0          0  ...           0   \n",
       "149         8.150  2012.0    4.0      4.0          0  ...           0   \n",
       "\n",
       "     Sotre_11.0  Sotre_13.0  Sotre_14.0  Sotre_15.0  Sotre_16.0  Sotre_17.0  \\\n",
       "0             0           0           0           0           0           0   \n",
       "1             0           1           0           0           0           0   \n",
       "4             0           0           0           0           0           0   \n",
       "6             0           0           0           1           0           0   \n",
       "7             0           0           0           0           0           0   \n",
       "..          ...         ...         ...         ...         ...         ...   \n",
       "139           0           0           0           0           0           0   \n",
       "143           0           0           0           0           0           0   \n",
       "144           0           0           0           0           0           0   \n",
       "145           0           0           1           0           0           0   \n",
       "149           0           0           0           0           0           0   \n",
       "\n",
       "     Sotre_18.0  Sotre_19.0  Sotre_20.0  \n",
       "0             0           0           0  \n",
       "1             0           0           0  \n",
       "4             0           0           0  \n",
       "6             0           0           0  \n",
       "7             0           0           1  \n",
       "..          ...         ...         ...  \n",
       "139           0           0           0  \n",
       "143           0           0           0  \n",
       "144           0           0           0  \n",
       "145           0           0           0  \n",
       "149           0           1           0  \n",
       "\n",
       "[90 rows x 28 columns]"
      ]
     },
     "execution_count": 12,
     "metadata": {},
     "output_type": "execute_result"
    }
   ],
   "source": [
    "dataset=onehot_encoode(dataset,column=\"Store\",prefix=\"Sotre\")\n",
    "dataset"
   ]
  },
  {
   "cell_type": "code",
   "execution_count": 13,
   "metadata": {},
   "outputs": [
    {
     "name": "stdout",
     "output_type": "stream",
     "text": [
      "Separating labels from features...\n",
      "...Done.\n",
      "0    1572117.54\n",
      "1    1807545.43\n",
      "4    1644470.66\n",
      "6     695396.19\n",
      "7    2203523.20\n",
      "Name: Weekly_Sales, dtype: float64\n",
      "\n",
      "   Holiday_Flag  Temperature  Fuel_Price         CPI  Unemployment    year  \\\n",
      "0           0.0        59.61       3.045  214.777523         6.858  2011.0   \n",
      "1           0.0        42.38       3.435  128.616064         7.470  2011.0   \n",
      "4           0.0        78.89       2.759  212.412888         7.092  2010.0   \n",
      "6           0.0        69.80       4.069  134.855161         7.658  2011.0   \n",
      "7           0.0        39.93       3.617  213.023623         6.961  2012.0   \n",
      "\n",
      "   month  weekday  Sotre_1.0  Sotre_2.0  ...  Sotre_10.0  Sotre_11.0  \\\n",
      "0    2.0      4.0          0          0  ...           0           0   \n",
      "1    3.0      4.0          0          0  ...           0           0   \n",
      "4    5.0      4.0          0          0  ...           0           0   \n",
      "6    3.0      6.0          0          0  ...           0           0   \n",
      "7    3.0      4.0          0          0  ...           0           0   \n",
      "\n",
      "   Sotre_13.0  Sotre_14.0  Sotre_15.0  Sotre_16.0  Sotre_17.0  Sotre_18.0  \\\n",
      "0           0           0           0           0           0           0   \n",
      "1           1           0           0           0           0           0   \n",
      "4           0           0           0           0           0           0   \n",
      "6           0           0           1           0           0           0   \n",
      "7           0           0           0           0           0           0   \n",
      "\n",
      "   Sotre_19.0  Sotre_20.0  \n",
      "0           0           0  \n",
      "1           0           0  \n",
      "4           0           0  \n",
      "6           0           0  \n",
      "7           0           1  \n",
      "\n",
      "[5 rows x 27 columns]\n",
      "\n"
     ]
    }
   ],
   "source": [
    "# Separate target variable Y from features X\n",
    "target_name = 'Weekly_Sales'\n",
    "print(\"Separating labels from features...\")\n",
    "Y = dataset.loc[:,target_name]\n",
    "X = dataset.loc[:,[c for c in dataset.columns if c!=target_name]] # All columns are kept, except the target\n",
    "print(\"...Done.\")\n",
    "print(Y.head())\n",
    "print()\n",
    "print(X.head())\n",
    "print()"
   ]
  },
  {
   "cell_type": "code",
   "execution_count": 14,
   "metadata": {},
   "outputs": [
    {
     "data": {
      "text/html": [
       "<div>\n",
       "<style scoped>\n",
       "    .dataframe tbody tr th:only-of-type {\n",
       "        vertical-align: middle;\n",
       "    }\n",
       "\n",
       "    .dataframe tbody tr th {\n",
       "        vertical-align: top;\n",
       "    }\n",
       "\n",
       "    .dataframe thead th {\n",
       "        text-align: right;\n",
       "    }\n",
       "</style>\n",
       "<table border=\"1\" class=\"dataframe\">\n",
       "  <thead>\n",
       "    <tr style=\"text-align: right;\">\n",
       "      <th></th>\n",
       "      <th>Holiday_Flag</th>\n",
       "      <th>Temperature</th>\n",
       "      <th>Fuel_Price</th>\n",
       "      <th>CPI</th>\n",
       "      <th>Unemployment</th>\n",
       "      <th>year</th>\n",
       "      <th>month</th>\n",
       "      <th>weekday</th>\n",
       "      <th>Sotre_1.0</th>\n",
       "      <th>Sotre_2.0</th>\n",
       "      <th>...</th>\n",
       "      <th>Sotre_10.0</th>\n",
       "      <th>Sotre_11.0</th>\n",
       "      <th>Sotre_13.0</th>\n",
       "      <th>Sotre_14.0</th>\n",
       "      <th>Sotre_15.0</th>\n",
       "      <th>Sotre_16.0</th>\n",
       "      <th>Sotre_17.0</th>\n",
       "      <th>Sotre_18.0</th>\n",
       "      <th>Sotre_19.0</th>\n",
       "      <th>Sotre_20.0</th>\n",
       "    </tr>\n",
       "  </thead>\n",
       "  <tbody>\n",
       "    <tr>\n",
       "      <th>0</th>\n",
       "      <td>0.0</td>\n",
       "      <td>59.61</td>\n",
       "      <td>3.045</td>\n",
       "      <td>214.777523</td>\n",
       "      <td>6.858</td>\n",
       "      <td>2011.0</td>\n",
       "      <td>2.0</td>\n",
       "      <td>4.0</td>\n",
       "      <td>0</td>\n",
       "      <td>0</td>\n",
       "      <td>...</td>\n",
       "      <td>0</td>\n",
       "      <td>0</td>\n",
       "      <td>0</td>\n",
       "      <td>0</td>\n",
       "      <td>0</td>\n",
       "      <td>0</td>\n",
       "      <td>0</td>\n",
       "      <td>0</td>\n",
       "      <td>0</td>\n",
       "      <td>0</td>\n",
       "    </tr>\n",
       "  </tbody>\n",
       "</table>\n",
       "<p>1 rows × 27 columns</p>\n",
       "</div>"
      ],
      "text/plain": [
       "   Holiday_Flag  Temperature  Fuel_Price         CPI  Unemployment    year  \\\n",
       "0           0.0        59.61       3.045  214.777523         6.858  2011.0   \n",
       "\n",
       "   month  weekday  Sotre_1.0  Sotre_2.0  ...  Sotre_10.0  Sotre_11.0  \\\n",
       "0    2.0      4.0          0          0  ...           0           0   \n",
       "\n",
       "   Sotre_13.0  Sotre_14.0  Sotre_15.0  Sotre_16.0  Sotre_17.0  Sotre_18.0  \\\n",
       "0           0           0           0           0           0           0   \n",
       "\n",
       "   Sotre_19.0  Sotre_20.0  \n",
       "0           0           0  \n",
       "\n",
       "[1 rows x 27 columns]"
      ]
     },
     "execution_count": 14,
     "metadata": {},
     "output_type": "execute_result"
    }
   ],
   "source": [
    "X.head(1)"
   ]
  },
  {
   "cell_type": "code",
   "execution_count": 15,
   "metadata": {},
   "outputs": [
    {
     "name": "stdout",
     "output_type": "stream",
     "text": [
      "Convert pandas DataFrames to numpy arrays...\n",
      "...Done\n",
      "[[0.00000000e+00 5.96100000e+01 3.04500000e+00 2.14777523e+02\n",
      "  6.85800000e+00 2.01100000e+03 2.00000000e+00 4.00000000e+00\n",
      "  0.00000000e+00 0.00000000e+00 0.00000000e+00 0.00000000e+00\n",
      "  0.00000000e+00 1.00000000e+00 0.00000000e+00 0.00000000e+00\n",
      "  0.00000000e+00 0.00000000e+00 0.00000000e+00 0.00000000e+00\n",
      "  0.00000000e+00 0.00000000e+00 0.00000000e+00 0.00000000e+00\n",
      "  0.00000000e+00 0.00000000e+00 0.00000000e+00]\n",
      " [0.00000000e+00 4.23800000e+01 3.43500000e+00 1.28616064e+02\n",
      "  7.47000000e+00 2.01100000e+03 3.00000000e+00 4.00000000e+00\n",
      "  0.00000000e+00 0.00000000e+00 0.00000000e+00 0.00000000e+00\n",
      "  0.00000000e+00 0.00000000e+00 0.00000000e+00 0.00000000e+00\n",
      "  0.00000000e+00 0.00000000e+00 0.00000000e+00 1.00000000e+00\n",
      "  0.00000000e+00 0.00000000e+00 0.00000000e+00 0.00000000e+00\n",
      "  0.00000000e+00 0.00000000e+00 0.00000000e+00]\n",
      " [0.00000000e+00 7.88900000e+01 2.75900000e+00 2.12412888e+02\n",
      "  7.09200000e+00 2.01000000e+03 5.00000000e+00 4.00000000e+00\n",
      "  0.00000000e+00 0.00000000e+00 0.00000000e+00 0.00000000e+00\n",
      "  0.00000000e+00 1.00000000e+00 0.00000000e+00 0.00000000e+00\n",
      "  0.00000000e+00 0.00000000e+00 0.00000000e+00 0.00000000e+00\n",
      "  0.00000000e+00 0.00000000e+00 0.00000000e+00 0.00000000e+00\n",
      "  0.00000000e+00 0.00000000e+00 0.00000000e+00]\n",
      " [0.00000000e+00 6.98000000e+01 4.06900000e+00 1.34855161e+02\n",
      "  7.65800000e+00 2.01100000e+03 3.00000000e+00 6.00000000e+00\n",
      "  0.00000000e+00 0.00000000e+00 0.00000000e+00 0.00000000e+00\n",
      "  0.00000000e+00 0.00000000e+00 0.00000000e+00 0.00000000e+00\n",
      "  0.00000000e+00 0.00000000e+00 0.00000000e+00 0.00000000e+00\n",
      "  0.00000000e+00 1.00000000e+00 0.00000000e+00 0.00000000e+00\n",
      "  0.00000000e+00 0.00000000e+00 0.00000000e+00]\n",
      " [0.00000000e+00 3.99300000e+01 3.61700000e+00 2.13023623e+02\n",
      "  6.96100000e+00 2.01200000e+03 3.00000000e+00 4.00000000e+00\n",
      "  0.00000000e+00 0.00000000e+00 0.00000000e+00 0.00000000e+00\n",
      "  0.00000000e+00 0.00000000e+00 0.00000000e+00 0.00000000e+00\n",
      "  0.00000000e+00 0.00000000e+00 0.00000000e+00 0.00000000e+00\n",
      "  0.00000000e+00 0.00000000e+00 0.00000000e+00 0.00000000e+00\n",
      "  0.00000000e+00 0.00000000e+00 1.00000000e+00]]\n",
      "\n",
      "[1572117.54, 1807545.43, 1644470.66, 695396.19, 2203523.2]\n"
     ]
    }
   ],
   "source": [
    "# Convert pandas DataFrames to numpy arrays before using scikit-learn\n",
    "print(\"Convert pandas DataFrames to numpy arrays...\")\n",
    "X = X.values\n",
    "Y= Y.tolist()\n",
    "print(\"...Done\")\n",
    "print(X[0:5,:])\n",
    "print()\n",
    "print(Y[0:5])"
   ]
  },
  {
   "cell_type": "code",
   "execution_count": 16,
   "metadata": {},
   "outputs": [
    {
     "name": "stdout",
     "output_type": "stream",
     "text": [
      "Dividing into train and test sets...\n",
      "...Done.\n",
      "\n"
     ]
    }
   ],
   "source": [
    "# First : always divide dataset into train set & test set !!\n",
    "print(\"Dividing into train and test sets...\")\n",
    "X_train, X_test, Y_train, Y_test = train_test_split(X, Y, test_size=0.2, random_state=0)\n",
    "print(\"...Done.\")\n",
    "print()"
   ]
  },
  {
   "cell_type": "code",
   "execution_count": 17,
   "metadata": {},
   "outputs": [],
   "source": [
    "# Create pipeline for numeric features\n",
    "numeric_features = [1,2,3,4,5,6,7] # Positions of numeric columns in X\n",
    "numeric_transformer = Pipeline(steps=[\n",
    "    ('imputer', SimpleImputer(strategy='mean')), # missing values will be replaced by columns' mean\n",
    "    ('scaler', StandardScaler())\n",
    "])\n",
    "# Use ColumnTransformer to make a preprocessor object that describes all the treatments to be done\n",
    "preprocessor = numeric_transformer "
   ]
  },
  {
   "cell_type": "code",
   "execution_count": 18,
   "metadata": {},
   "outputs": [
    {
     "name": "stdout",
     "output_type": "stream",
     "text": [
      "Performing preprocessings on train set...\n",
      "[[0.00000000e+00 6.17900000e+01 2.71100000e+00 1.89523128e+02\n",
      "  6.86800000e+00 2.01000000e+03 9.00000000e+00 1.00000000e+00\n",
      "  0.00000000e+00 0.00000000e+00 0.00000000e+00 0.00000000e+00\n",
      "  0.00000000e+00 0.00000000e+00 0.00000000e+00 0.00000000e+00\n",
      "  0.00000000e+00 0.00000000e+00 0.00000000e+00 0.00000000e+00\n",
      "  0.00000000e+00 0.00000000e+00 1.00000000e+00 0.00000000e+00\n",
      "  0.00000000e+00 0.00000000e+00 0.00000000e+00]\n",
      " [0.00000000e+00 6.91700000e+01 3.59400000e+00 2.24019287e+02\n",
      "  5.42200000e+00 2.01200000e+03 1.00000000e+01 4.00000000e+00\n",
      "  0.00000000e+00 0.00000000e+00 0.00000000e+00 0.00000000e+00\n",
      "  1.00000000e+00 0.00000000e+00 0.00000000e+00 0.00000000e+00\n",
      "  0.00000000e+00 0.00000000e+00 0.00000000e+00 0.00000000e+00\n",
      "  0.00000000e+00 0.00000000e+00 0.00000000e+00 0.00000000e+00\n",
      "  0.00000000e+00 0.00000000e+00 0.00000000e+00]\n",
      " [0.00000000e+00 3.32600000e+01 3.78900000e+00 1.33958742e+02\n",
      "  7.77100000e+00 2.01100000e+03 3.00000000e+00 4.00000000e+00\n",
      "  0.00000000e+00 0.00000000e+00 0.00000000e+00 0.00000000e+00\n",
      "  0.00000000e+00 0.00000000e+00 0.00000000e+00 0.00000000e+00\n",
      "  0.00000000e+00 0.00000000e+00 0.00000000e+00 0.00000000e+00\n",
      "  0.00000000e+00 0.00000000e+00 0.00000000e+00 0.00000000e+00\n",
      "  0.00000000e+00 1.00000000e+00 0.00000000e+00]\n",
      " [0.00000000e+00 8.29200000e+01 3.55400000e+00 2.19070197e+02\n",
      "  6.42500000e+00 2.01100000e+03 8.00000000e+00 4.00000000e+00\n",
      "  0.00000000e+00 0.00000000e+00 0.00000000e+00 0.00000000e+00\n",
      "  0.00000000e+00 0.00000000e+00 0.00000000e+00 1.00000000e+00\n",
      "  0.00000000e+00 0.00000000e+00 0.00000000e+00 0.00000000e+00\n",
      "  0.00000000e+00 0.00000000e+00 0.00000000e+00 0.00000000e+00\n",
      "  0.00000000e+00 0.00000000e+00 0.00000000e+00]\n",
      " [0.00000000e+00 7.47800000e+01 2.85400000e+00 2.10337426e+02\n",
      "  7.80800000e+00 2.01000000e+03 5.00000000e+00 4.00000000e+00\n",
      "  1.00000000e+00 0.00000000e+00 0.00000000e+00 0.00000000e+00\n",
      "  0.00000000e+00 0.00000000e+00 0.00000000e+00 0.00000000e+00\n",
      "  0.00000000e+00 0.00000000e+00 0.00000000e+00 0.00000000e+00\n",
      "  0.00000000e+00 0.00000000e+00 0.00000000e+00 0.00000000e+00\n",
      "  0.00000000e+00 0.00000000e+00 0.00000000e+00]]\n",
      "...Done.\n",
      "[[-0.30151134  0.04260362 -1.26840641  0.20507788 -0.55534542 -1.15712571\n",
      "   0.75927079 -2.01384487 -0.30151134 -0.24253563 -0.30151134 -0.20851441\n",
      "  -0.24253563 -0.20851441 -0.27317918 -0.24253563 -0.20851441 -0.20851441\n",
      "  -0.11867817 -0.30151134 -0.24253563 -0.20851441  5.91607978 -0.20851441\n",
      "  -0.24253563 -0.24253563 -0.24253563]\n",
      " [-0.30151134  0.4592769   0.58058829  1.09260385 -2.12734441  1.4937441\n",
      "   1.08030474  0.22507678 -0.30151134 -0.24253563 -0.30151134 -0.20851441\n",
      "   4.12310563 -0.20851441 -0.27317918 -0.24253563 -0.20851441 -0.20851441\n",
      "  -0.11867817 -0.30151134 -0.24253563 -0.20851441 -0.16903085 -0.20851441\n",
      "  -0.24253563 -0.24253563 -0.24253563]\n",
      " [-0.30151134 -1.5681943   0.98891668 -1.22449677  0.42633859  0.16830919\n",
      "  -1.16693295  0.22507678 -0.30151134 -0.24253563 -0.30151134 -0.20851441\n",
      "  -0.24253563 -0.20851441 -0.27317918 -0.24253563 -0.20851441 -0.20851441\n",
      "  -0.11867817 -0.30151134 -0.24253563 -0.20851441 -0.16903085 -0.20851441\n",
      "  -0.24253563  4.12310563 -0.24253563]\n",
      " [-0.30151134  1.23559907  0.49682862  0.96527239 -1.03694678  0.16830919\n",
      "   0.43823683  0.22507678 -0.30151134 -0.24253563 -0.30151134 -0.20851441\n",
      "  -0.24253563 -0.20851441 -0.27317918  4.12310563 -0.20851441 -0.20851441\n",
      "  -0.11867817 -0.30151134 -0.24253563 -0.20851441 -0.16903085 -0.20851441\n",
      "  -0.24253563 -0.24253563 -0.24253563]\n",
      " [-0.30151134  0.77601634 -0.96896559  0.74059345  0.46656263 -1.15712571\n",
      "  -0.52486504  0.22507678  3.31662479 -0.24253563 -0.30151134 -0.20851441\n",
      "  -0.24253563 -0.20851441 -0.27317918 -0.24253563 -0.20851441 -0.20851441\n",
      "  -0.11867817 -0.30151134 -0.24253563 -0.20851441 -0.16903085 -0.20851441\n",
      "  -0.24253563 -0.24253563 -0.24253563]]\n",
      "\n",
      "Performing preprocessings on test set...\n",
      "[[0.00000000e+00 7.88900000e+01 2.75900000e+00 2.12412888e+02\n",
      "  7.09200000e+00 2.01000000e+03 5.00000000e+00 4.00000000e+00\n",
      "  0.00000000e+00 0.00000000e+00 0.00000000e+00 0.00000000e+00\n",
      "  0.00000000e+00 1.00000000e+00 0.00000000e+00 0.00000000e+00\n",
      "  0.00000000e+00 0.00000000e+00 0.00000000e+00 0.00000000e+00\n",
      "  0.00000000e+00 0.00000000e+00 0.00000000e+00 0.00000000e+00\n",
      "  0.00000000e+00 0.00000000e+00 0.00000000e+00]\n",
      " [0.00000000e+00 3.82600000e+01 2.72500000e+00 1.89704822e+02\n",
      "  8.96300000e+00 2.01000000e+03 2.00000000e+00 3.00000000e+00\n",
      "  0.00000000e+00 0.00000000e+00 0.00000000e+00 0.00000000e+00\n",
      "  0.00000000e+00 0.00000000e+00 1.00000000e+00 0.00000000e+00\n",
      "  0.00000000e+00 0.00000000e+00 0.00000000e+00 0.00000000e+00\n",
      "  0.00000000e+00 0.00000000e+00 0.00000000e+00 0.00000000e+00\n",
      "  0.00000000e+00 0.00000000e+00 0.00000000e+00]\n",
      " [0.00000000e+00 5.27700000e+01 3.51000000e+00 2.23917015e+02\n",
      "  6.83300000e+00            nan            nan            nan\n",
      "  0.00000000e+00 0.00000000e+00 0.00000000e+00 0.00000000e+00\n",
      "  0.00000000e+00 0.00000000e+00 0.00000000e+00 0.00000000e+00\n",
      "  0.00000000e+00 0.00000000e+00 1.00000000e+00 0.00000000e+00\n",
      "  0.00000000e+00 0.00000000e+00 0.00000000e+00 0.00000000e+00\n",
      "  0.00000000e+00 0.00000000e+00 0.00000000e+00]\n",
      " [0.00000000e+00 5.76200000e+01 3.88200000e+00 1.30645793e+02\n",
      "  7.54500000e+00 2.01200000e+03 2.00000000e+00 4.00000000e+00\n",
      "  0.00000000e+00 0.00000000e+00 0.00000000e+00 0.00000000e+00\n",
      "  0.00000000e+00 0.00000000e+00 0.00000000e+00 0.00000000e+00\n",
      "  0.00000000e+00 1.00000000e+00 0.00000000e+00 0.00000000e+00\n",
      "  0.00000000e+00 0.00000000e+00 0.00000000e+00 0.00000000e+00\n",
      "  0.00000000e+00 0.00000000e+00 0.00000000e+00]\n",
      " [0.00000000e+00 8.27000000e+01 3.34600000e+00 2.25306862e+02\n",
      "  6.66400000e+00 2.01200000e+03 6.00000000e+00 4.00000000e+00\n",
      "  0.00000000e+00 0.00000000e+00 1.00000000e+00 0.00000000e+00\n",
      "  0.00000000e+00 0.00000000e+00 0.00000000e+00 0.00000000e+00\n",
      "  0.00000000e+00 0.00000000e+00 0.00000000e+00 0.00000000e+00\n",
      "  0.00000000e+00 0.00000000e+00 0.00000000e+00 0.00000000e+00\n",
      "  0.00000000e+00 0.00000000e+00 0.00000000e+00]]\n",
      "...Done.\n",
      "[[-3.01511345e-01  1.00806610e+00 -1.16789481e+00  7.93991458e-01\n",
      "  -3.11826909e-01 -1.15712571e+00 -5.24865040e-01  2.25076779e-01\n",
      "  -3.01511345e-01 -2.42535625e-01 -3.01511345e-01 -2.08514414e-01\n",
      "  -2.42535625e-01  4.79583152e+00 -2.73179182e-01 -2.42535625e-01\n",
      "  -2.08514414e-01 -2.08514414e-01 -1.18678166e-01 -3.01511345e-01\n",
      "  -2.42535625e-01 -2.08514414e-01 -1.69030851e-01 -2.08514414e-01\n",
      "  -2.42535625e-01 -2.42535625e-01 -2.42535625e-01]\n",
      " [-3.01511345e-01 -1.28589533e+00 -1.23909053e+00  2.09752546e-01\n",
      "   1.72220498e+00 -1.15712571e+00 -1.48796691e+00 -5.21230436e-01\n",
      "  -3.01511345e-01 -2.42535625e-01 -3.01511345e-01 -2.08514414e-01\n",
      "  -2.42535625e-01 -2.08514414e-01  3.66060104e+00 -2.42535625e-01\n",
      "  -2.08514414e-01 -2.08514414e-01 -1.18678166e-01 -3.01511345e-01\n",
      "  -2.42535625e-01 -2.08514414e-01 -1.69030851e-01 -2.08514414e-01\n",
      "  -2.42535625e-01 -2.42535625e-01 -2.42535625e-01]\n",
      " [-3.01511345e-01 -4.66663722e-01  4.04692987e-01  1.08997257e+00\n",
      "  -5.93395193e-01 -3.01369006e-13 -5.70270864e-16 -3.31426982e-16\n",
      "  -3.01511345e-01 -2.42535625e-01 -3.01511345e-01 -2.08514414e-01\n",
      "  -2.42535625e-01 -2.08514414e-01 -2.73179182e-01 -2.42535625e-01\n",
      "  -2.08514414e-01 -2.08514414e-01  8.42614977e+00 -3.01511345e-01\n",
      "  -2.42535625e-01 -2.08514414e-01 -1.69030851e-01 -2.08514414e-01\n",
      "  -2.42535625e-01 -2.42535625e-01 -2.42535625e-01]\n",
      " [-3.01511345e-01 -1.92833721e-01  1.18365791e+00 -1.30973316e+00\n",
      "   1.80645804e-01  1.49374410e+00 -1.48796691e+00  2.25076779e-01\n",
      "  -3.01511345e-01 -2.42535625e-01 -3.01511345e-01 -2.08514414e-01\n",
      "  -2.42535625e-01 -2.08514414e-01 -2.73179182e-01 -2.42535625e-01\n",
      "  -2.08514414e-01  4.79583152e+00 -1.18678166e-01 -3.01511345e-01\n",
      "  -2.42535625e-01 -2.08514414e-01 -1.69030851e-01 -2.08514414e-01\n",
      "  -2.42535625e-01 -2.42535625e-01 -2.42535625e-01]\n",
      " [-3.01511345e-01  1.22317791e+00  6.12783416e-02  1.12573089e+00\n",
      "  -7.77121216e-01  1.49374410e+00 -2.03831083e-01  2.25076779e-01\n",
      "  -3.01511345e-01 -2.42535625e-01  3.31662479e+00 -2.08514414e-01\n",
      "  -2.42535625e-01 -2.08514414e-01 -2.73179182e-01 -2.42535625e-01\n",
      "  -2.08514414e-01 -2.08514414e-01 -1.18678166e-01 -3.01511345e-01\n",
      "  -2.42535625e-01 -2.08514414e-01 -1.69030851e-01 -2.08514414e-01\n",
      "  -2.42535625e-01 -2.42535625e-01 -2.42535625e-01]]\n",
      "\n"
     ]
    }
   ],
   "source": [
    "# Preprocessings on train set\n",
    "print(\"Performing preprocessings on train set...\")\n",
    "print(X_train[0:5,:])\n",
    "X_train = preprocessor.fit_transform(X_train)\n",
    "print('...Done.')\n",
    "print(X_train[0:5,:])\n",
    "print()\n",
    "\n",
    "# Preprocessings on test set\n",
    "print(\"Performing preprocessings on test set...\")\n",
    "print(X_test[0:5,:])\n",
    "X_test = preprocessor.transform(X_test) # Don't fit again !!\n",
    "print('...Done.')\n",
    "print(X_test[0:5,:])\n",
    "print()\n",
    "#On est entrain de préparer les données avant de les mettre dans le modèle "
   ]
  },
  {
   "cell_type": "markdown",
   "metadata": {},
   "source": [
    "Linear Regression"
   ]
  },
  {
   "cell_type": "code",
   "execution_count": 32,
   "metadata": {},
   "outputs": [
    {
     "name": "stdout",
     "output_type": "stream",
     "text": [
      "Train model...\n",
      "...Done.\n"
     ]
    }
   ],
   "source": [
    "# Train model\n",
    "print(\"Train model...\")\n",
    "regressor = LinearRegression()\n",
    "regressor.fit(X_train, Y_train)\n",
    "print(\"...Done.\")\n",
    "#Le modèle détermine les meilleurs coefficients pr prédire Y. A ce moment là les coef sont figés pr pouvoir faire des prédictions"
   ]
  },
  {
   "cell_type": "code",
   "execution_count": 33,
   "metadata": {},
   "outputs": [
    {
     "name": "stdout",
     "output_type": "stream",
     "text": [
      "Predictions on training set...\n",
      "...Done.\n",
      "[ 614643.49412189  371134.40579841 1330843.3957801   871024.07564963\n",
      " 1535240.22330821 1592716.77127139 1996072.46518457  643512.44768569\n",
      "  926259.61331296 1094817.20461609 2060070.70572078  559838.89894932\n",
      " 2066450.25690005  585283.21401655  532274.39928691  819984.97967991\n",
      "  670131.513365   1626569.10564377  248530.03104764  540489.51321838\n",
      " 1815129.1815554  2040780.58505904 1124102.10861753 1397863.50615842\n",
      " 2063654.32948615 1986553.93781555  433629.56900677 2075983.75340788\n",
      "  895012.69875318 1594862.20329567 1955975.40735739 1580192.22933551\n",
      " 1587850.08899831 1853847.89973219  377824.70737442  484506.60500664\n",
      "  833429.09860419 1410346.85532406 1985013.49631158 2041212.74805218\n",
      "  509413.6574641  2033555.26376778 1486628.61396142  422687.93132762\n",
      "  226787.3493538   525299.79959496  435007.02587811 1880522.47843429\n",
      " 2032035.81863149  434442.40497369 2072576.84790587 1908205.25825728\n",
      "  853410.2917159  1526844.33770601  493290.20177498  344885.24380014\n",
      " 1743480.99092142  360718.68847799  923096.14228423 2269223.65087134\n",
      " 1784899.23027811 1139468.30822275 1757242.51       1980947.8962964\n",
      "  629140.54963748 1816944.48689377 1605345.14647969  436814.17883952\n",
      " 1447933.26273742 1056184.37854364 2157166.12897466 1791560.24218481]\n",
      "\n"
     ]
    }
   ],
   "source": [
    "# Predictions on training set\n",
    "print(\"Predictions on training set...\")\n",
    "Y_train_pred = regressor.predict(X_train)\n",
    "print(\"...Done.\")\n",
    "print(Y_train_pred)\n",
    "print()"
   ]
  },
  {
   "cell_type": "code",
   "execution_count": 34,
   "metadata": {},
   "outputs": [
    {
     "name": "stdout",
     "output_type": "stream",
     "text": [
      "Predictions on test set...\n",
      "...Done.\n",
      "[1601189.03996916  593283.85501469 1847268.5482564  1712619.23717348\n",
      "  470175.66493971  320593.34745701 1226930.05329673 2133675.39323944\n",
      " 2001580.35086303 1369842.32506905 1155467.15869197 1041549.53369671\n",
      "  532930.27042184  394603.19773335  458359.00425421 1443382.05238092\n",
      " 2098106.32943881  486902.11498331]\n",
      "\n"
     ]
    }
   ],
   "source": [
    "# Predictions on test set\n",
    "print(\"Predictions on test set...\")\n",
    "Y_test_pred = regressor.predict(X_test)\n",
    "print(\"...Done.\")\n",
    "print(Y_test_pred)\n",
    "print()"
   ]
  },
  {
   "cell_type": "code",
   "execution_count": 35,
   "metadata": {},
   "outputs": [
    {
     "name": "stdout",
     "output_type": "stream",
     "text": [
      "R² score on training set :  0.9830518663100385\n",
      "R² score on test set :  0.9310645782398248\n"
     ]
    }
   ],
   "source": [
    "# Print R² scores\n",
    "print(\"R² score on training set : \", r2_score(Y_train, Y_train_pred))\n",
    "print(\"R² score on test set : \", r2_score(Y_test, Y_test_pred))\n",
    "# Pour savoir si notre modèle overfitte ou pas on doit faire une cross_validation "
   ]
  },
  {
   "cell_type": "code",
   "execution_count": 36,
   "metadata": {},
   "outputs": [
    {
     "name": "stdout",
     "output_type": "stream",
     "text": [
      "The cross-validated score is:0.950\n",
      "The standard deviation is:0.026\n"
     ]
    }
   ],
   "source": [
    "# Cross_validation\n",
    "scores= cross_val_score(regressor, X_train, Y_train, cv=10)\n",
    "print('The cross-validated score is:{:.3f}'.format(scores.mean()))\n",
    "print('The standard deviation is:{:.3f}'.format(scores.std()))\n",
    "# un modèle de regression sur ces datas va me donner en général un R² score de 0.95 et que ça va varier d'environ 0.026"
   ]
  },
  {
   "cell_type": "code",
   "execution_count": 37,
   "metadata": {},
   "outputs": [
    {
     "name": "stderr",
     "output_type": "stream",
     "text": [
      "/opt/conda/lib/python3.8/site-packages/seaborn/_decorators.py:36: FutureWarning:\n",
      "\n",
      "Pass the following variables as keyword args: x, y. From version 0.12, the only valid positional argument will be `data`, and passing other arguments without an explicit keyword will result in an error or misinterpretation.\n",
      "\n"
     ]
    },
    {
     "data": {
      "image/png": "[encoded data removed]",
      "text/plain": [
       "<Figure size 432x288 with 1 Axes>"
      ]
     },
     "metadata": {
      "needs_background": "light"
     },
     "output_type": "display_data"
    }
   ],
   "source": [
    "sns.regplot(Y_test, Y_test_pred)\n",
    "plt.show()"
   ]
  },
  {
   "cell_type": "code",
   "execution_count": 38,
   "metadata": {},
   "outputs": [
    {
     "data": {
      "text/plain": [
       "array([-1.24013579e+04,  2.39797298e+02, -7.15057715e+04,  8.39043766e+05,\n",
       "        4.35216367e+04, -4.99794450e+03, -3.53847521e+03, -2.52123209e+04,\n",
       "       -1.21150655e+05, -3.59608910e+04, -4.65565153e+05,  4.16020154e+05,\n",
       "       -3.79119490e+05, -7.94504346e+04, -2.61984614e+05, -2.54464585e+05,\n",
       "       -3.08810115e+05,  3.26874905e+05, -3.19299868e+04,  5.33944287e+05,\n",
       "        1.46515869e+05,  8.92781942e+04, -1.54192856e+05,  1.50308687e+05,\n",
       "        1.81877401e+05,  2.64044933e+05,  4.00818830e+04])"
      ]
     },
     "execution_count": 38,
     "metadata": {},
     "output_type": "execute_result"
    }
   ],
   "source": [
    "regressor.coef_"
   ]
  },
  {
   "cell_type": "code",
   "execution_count": 39,
   "metadata": {},
   "outputs": [
    {
     "data": {
      "text/html": [
       "<div>\n",
       "<style scoped>\n",
       "    .dataframe tbody tr th:only-of-type {\n",
       "        vertical-align: middle;\n",
       "    }\n",
       "\n",
       "    .dataframe tbody tr th {\n",
       "        vertical-align: top;\n",
       "    }\n",
       "\n",
       "    .dataframe thead th {\n",
       "        text-align: right;\n",
       "    }\n",
       "</style>\n",
       "<table border=\"1\" class=\"dataframe\">\n",
       "  <thead>\n",
       "    <tr style=\"text-align: right;\">\n",
       "      <th></th>\n",
       "      <th>coefficients</th>\n",
       "    </tr>\n",
       "  </thead>\n",
       "  <tbody>\n",
       "    <tr>\n",
       "      <th>Holiday_Flag</th>\n",
       "      <td>-12401.357914</td>\n",
       "    </tr>\n",
       "    <tr>\n",
       "      <th>Temperature</th>\n",
       "      <td>239.797298</td>\n",
       "    </tr>\n",
       "    <tr>\n",
       "      <th>Fuel_Price</th>\n",
       "      <td>-71505.771511</td>\n",
       "    </tr>\n",
       "    <tr>\n",
       "      <th>CPI</th>\n",
       "      <td>839043.765882</td>\n",
       "    </tr>\n",
       "    <tr>\n",
       "      <th>Unemployment</th>\n",
       "      <td>43521.636656</td>\n",
       "    </tr>\n",
       "    <tr>\n",
       "      <th>year</th>\n",
       "      <td>-4997.944497</td>\n",
       "    </tr>\n",
       "    <tr>\n",
       "      <th>month</th>\n",
       "      <td>-3538.475206</td>\n",
       "    </tr>\n",
       "    <tr>\n",
       "      <th>weekday</th>\n",
       "      <td>-25212.320948</td>\n",
       "    </tr>\n",
       "    <tr>\n",
       "      <th>Sotre_1.0</th>\n",
       "      <td>-121150.654929</td>\n",
       "    </tr>\n",
       "    <tr>\n",
       "      <th>Sotre_2.0</th>\n",
       "      <td>-35960.890962</td>\n",
       "    </tr>\n",
       "    <tr>\n",
       "      <th>Sotre_3.0</th>\n",
       "      <td>-465565.153276</td>\n",
       "    </tr>\n",
       "    <tr>\n",
       "      <th>Sotre_4.0</th>\n",
       "      <td>416020.153969</td>\n",
       "    </tr>\n",
       "    <tr>\n",
       "      <th>Sotre_5.0</th>\n",
       "      <td>-379119.489765</td>\n",
       "    </tr>\n",
       "    <tr>\n",
       "      <th>Sotre_6.0</th>\n",
       "      <td>-79450.434630</td>\n",
       "    </tr>\n",
       "    <tr>\n",
       "      <th>Sotre_7.0</th>\n",
       "      <td>-261984.613563</td>\n",
       "    </tr>\n",
       "    <tr>\n",
       "      <th>Sotre_8.0</th>\n",
       "      <td>-254464.584598</td>\n",
       "    </tr>\n",
       "    <tr>\n",
       "      <th>Sotre_9.0</th>\n",
       "      <td>-308810.114927</td>\n",
       "    </tr>\n",
       "    <tr>\n",
       "      <th>Sotre_10.0</th>\n",
       "      <td>326874.904502</td>\n",
       "    </tr>\n",
       "    <tr>\n",
       "      <th>Sotre_11.0</th>\n",
       "      <td>-31929.986849</td>\n",
       "    </tr>\n",
       "    <tr>\n",
       "      <th>Sotre_13.0</th>\n",
       "      <td>533944.287200</td>\n",
       "    </tr>\n",
       "    <tr>\n",
       "      <th>Sotre_14.0</th>\n",
       "      <td>146515.869033</td>\n",
       "    </tr>\n",
       "    <tr>\n",
       "      <th>Sotre_15.0</th>\n",
       "      <td>89278.194221</td>\n",
       "    </tr>\n",
       "    <tr>\n",
       "      <th>Sotre_16.0</th>\n",
       "      <td>-154192.855807</td>\n",
       "    </tr>\n",
       "    <tr>\n",
       "      <th>Sotre_17.0</th>\n",
       "      <td>150308.687297</td>\n",
       "    </tr>\n",
       "    <tr>\n",
       "      <th>Sotre_18.0</th>\n",
       "      <td>181877.401424</td>\n",
       "    </tr>\n",
       "    <tr>\n",
       "      <th>Sotre_19.0</th>\n",
       "      <td>264044.933036</td>\n",
       "    </tr>\n",
       "    <tr>\n",
       "      <th>Sotre_20.0</th>\n",
       "      <td>40081.882982</td>\n",
       "    </tr>\n",
       "  </tbody>\n",
       "</table>\n",
       "</div>"
      ],
      "text/plain": [
       "               coefficients\n",
       "Holiday_Flag  -12401.357914\n",
       "Temperature      239.797298\n",
       "Fuel_Price    -71505.771511\n",
       "CPI           839043.765882\n",
       "Unemployment   43521.636656\n",
       "year           -4997.944497\n",
       "month          -3538.475206\n",
       "weekday       -25212.320948\n",
       "Sotre_1.0    -121150.654929\n",
       "Sotre_2.0     -35960.890962\n",
       "Sotre_3.0    -465565.153276\n",
       "Sotre_4.0     416020.153969\n",
       "Sotre_5.0    -379119.489765\n",
       "Sotre_6.0     -79450.434630\n",
       "Sotre_7.0    -261984.613563\n",
       "Sotre_8.0    -254464.584598\n",
       "Sotre_9.0    -308810.114927\n",
       "Sotre_10.0    326874.904502\n",
       "Sotre_11.0    -31929.986849\n",
       "Sotre_13.0    533944.287200\n",
       "Sotre_14.0    146515.869033\n",
       "Sotre_15.0     89278.194221\n",
       "Sotre_16.0   -154192.855807\n",
       "Sotre_17.0    150308.687297\n",
       "Sotre_18.0    181877.401424\n",
       "Sotre_19.0    264044.933036\n",
       "Sotre_20.0     40081.882982"
      ]
     },
     "execution_count": 39,
     "metadata": {},
     "output_type": "execute_result"
    }
   ],
   "source": [
    "coefs = pd.DataFrame( index=dataset.columns[1:29],data = regressor.coef_.transpose(), columns=[\"coefficients\"])\n",
    "coefs"
   ]
  },
  {
   "cell_type": "code",
   "execution_count": 40,
   "metadata": {},
   "outputs": [
    {
     "data": {
      "text/html": [
       "<div>\n",
       "<style scoped>\n",
       "    .dataframe tbody tr th:only-of-type {\n",
       "        vertical-align: middle;\n",
       "    }\n",
       "\n",
       "    .dataframe tbody tr th {\n",
       "        vertical-align: top;\n",
       "    }\n",
       "\n",
       "    .dataframe thead th {\n",
       "        text-align: right;\n",
       "    }\n",
       "</style>\n",
       "<table border=\"1\" class=\"dataframe\">\n",
       "  <thead>\n",
       "    <tr style=\"text-align: right;\">\n",
       "      <th></th>\n",
       "      <th>coefficients</th>\n",
       "    </tr>\n",
       "  </thead>\n",
       "  <tbody>\n",
       "    <tr>\n",
       "      <th>CPI</th>\n",
       "      <td>839043.765882</td>\n",
       "    </tr>\n",
       "    <tr>\n",
       "      <th>Sotre_13.0</th>\n",
       "      <td>533944.287200</td>\n",
       "    </tr>\n",
       "    <tr>\n",
       "      <th>Sotre_3.0</th>\n",
       "      <td>465565.153276</td>\n",
       "    </tr>\n",
       "    <tr>\n",
       "      <th>Sotre_4.0</th>\n",
       "      <td>416020.153969</td>\n",
       "    </tr>\n",
       "    <tr>\n",
       "      <th>Sotre_5.0</th>\n",
       "      <td>379119.489765</td>\n",
       "    </tr>\n",
       "    <tr>\n",
       "      <th>Sotre_10.0</th>\n",
       "      <td>326874.904502</td>\n",
       "    </tr>\n",
       "    <tr>\n",
       "      <th>Sotre_9.0</th>\n",
       "      <td>308810.114927</td>\n",
       "    </tr>\n",
       "    <tr>\n",
       "      <th>Sotre_19.0</th>\n",
       "      <td>264044.933036</td>\n",
       "    </tr>\n",
       "    <tr>\n",
       "      <th>Sotre_7.0</th>\n",
       "      <td>261984.613563</td>\n",
       "    </tr>\n",
       "    <tr>\n",
       "      <th>Sotre_8.0</th>\n",
       "      <td>254464.584598</td>\n",
       "    </tr>\n",
       "    <tr>\n",
       "      <th>Sotre_18.0</th>\n",
       "      <td>181877.401424</td>\n",
       "    </tr>\n",
       "    <tr>\n",
       "      <th>Sotre_16.0</th>\n",
       "      <td>154192.855807</td>\n",
       "    </tr>\n",
       "    <tr>\n",
       "      <th>Sotre_17.0</th>\n",
       "      <td>150308.687297</td>\n",
       "    </tr>\n",
       "    <tr>\n",
       "      <th>Sotre_14.0</th>\n",
       "      <td>146515.869033</td>\n",
       "    </tr>\n",
       "    <tr>\n",
       "      <th>Sotre_1.0</th>\n",
       "      <td>121150.654929</td>\n",
       "    </tr>\n",
       "    <tr>\n",
       "      <th>Sotre_15.0</th>\n",
       "      <td>89278.194221</td>\n",
       "    </tr>\n",
       "    <tr>\n",
       "      <th>Sotre_6.0</th>\n",
       "      <td>79450.434630</td>\n",
       "    </tr>\n",
       "    <tr>\n",
       "      <th>Fuel_Price</th>\n",
       "      <td>71505.771511</td>\n",
       "    </tr>\n",
       "    <tr>\n",
       "      <th>Unemployment</th>\n",
       "      <td>43521.636656</td>\n",
       "    </tr>\n",
       "    <tr>\n",
       "      <th>Sotre_20.0</th>\n",
       "      <td>40081.882982</td>\n",
       "    </tr>\n",
       "    <tr>\n",
       "      <th>Sotre_2.0</th>\n",
       "      <td>35960.890962</td>\n",
       "    </tr>\n",
       "    <tr>\n",
       "      <th>Sotre_11.0</th>\n",
       "      <td>31929.986849</td>\n",
       "    </tr>\n",
       "    <tr>\n",
       "      <th>weekday</th>\n",
       "      <td>25212.320948</td>\n",
       "    </tr>\n",
       "    <tr>\n",
       "      <th>Holiday_Flag</th>\n",
       "      <td>12401.357914</td>\n",
       "    </tr>\n",
       "    <tr>\n",
       "      <th>year</th>\n",
       "      <td>4997.944497</td>\n",
       "    </tr>\n",
       "    <tr>\n",
       "      <th>month</th>\n",
       "      <td>3538.475206</td>\n",
       "    </tr>\n",
       "    <tr>\n",
       "      <th>Temperature</th>\n",
       "      <td>239.797298</td>\n",
       "    </tr>\n",
       "  </tbody>\n",
       "</table>\n",
       "</div>"
      ],
      "text/plain": [
       "               coefficients\n",
       "CPI           839043.765882\n",
       "Sotre_13.0    533944.287200\n",
       "Sotre_3.0     465565.153276\n",
       "Sotre_4.0     416020.153969\n",
       "Sotre_5.0     379119.489765\n",
       "Sotre_10.0    326874.904502\n",
       "Sotre_9.0     308810.114927\n",
       "Sotre_19.0    264044.933036\n",
       "Sotre_7.0     261984.613563\n",
       "Sotre_8.0     254464.584598\n",
       "Sotre_18.0    181877.401424\n",
       "Sotre_16.0    154192.855807\n",
       "Sotre_17.0    150308.687297\n",
       "Sotre_14.0    146515.869033\n",
       "Sotre_1.0     121150.654929\n",
       "Sotre_15.0     89278.194221\n",
       "Sotre_6.0      79450.434630\n",
       "Fuel_Price     71505.771511\n",
       "Unemployment   43521.636656\n",
       "Sotre_20.0     40081.882982\n",
       "Sotre_2.0      35960.890962\n",
       "Sotre_11.0     31929.986849\n",
       "weekday        25212.320948\n",
       "Holiday_Flag   12401.357914\n",
       "year            4997.944497\n",
       "month           3538.475206\n",
       "Temperature      239.797298"
      ]
     },
     "execution_count": 40,
     "metadata": {},
     "output_type": "execute_result"
    }
   ],
   "source": [
    "coefs.apply(lambda x : abs(x)).sort_values(by=\"coefficients\", ascending=False)"
   ]
  },
  {
   "cell_type": "markdown",
   "metadata": {},
   "source": [
    "Ridge "
   ]
  },
  {
   "cell_type": "code",
   "execution_count": 21,
   "metadata": {},
   "outputs": [
    {
     "name": "stdout",
     "output_type": "stream",
     "text": [
      "Train score of ridge: 0.981\n",
      "Test score of ridge: 0.932\n"
     ]
    }
   ],
   "source": [
    "ridge = Ridge()\n",
    "ridge.fit(X_train, Y_train)\n",
    "print('Train score of ridge: {:.3f}'.format(ridge.score(X_train, Y_train)))\n",
    "print('Test score of ridge: {:.3f}'.format(ridge.score(X_test, Y_test)))"
   ]
  },
  {
   "cell_type": "code",
   "execution_count": 23,
   "metadata": {},
   "outputs": [
    {
     "name": "stdout",
     "output_type": "stream",
     "text": [
      "The cross-validated score is:0.939\n",
      "The standard deviation is:0.047\n"
     ]
    }
   ],
   "source": [
    "# Cross_validation\n",
    "scores_ridge = cross_val_score(ridge, X_train, Y_train, cv=10)\n",
    "print('The cross-validated score is:{:.3f}'.format(scores_ridge.mean()))\n",
    "print('The standard deviation is:{:.3f}'.format(scores_ridge.std()))"
   ]
  },
  {
   "cell_type": "markdown",
   "metadata": {},
   "source": [
    "Grid Search"
   ]
  },
  {
   "cell_type": "code",
   "execution_count": 42,
   "metadata": {},
   "outputs": [
    {
     "name": "stdout",
     "output_type": "stream",
     "text": [
      "Grid search...\n",
      "...Done.\n",
      "Best hyperparameters :  {'alpha': 0.1}\n"
     ]
    },
    {
     "name": "stderr",
     "output_type": "stream",
     "text": [
      "/opt/conda/lib/python3.8/site-packages/sklearn/linear_model/_ridge.py:147: LinAlgWarning:\n",
      "\n",
      "Ill-conditioned matrix (rcond=1.03721e-16): result may not be accurate.\n",
      "\n",
      "/opt/conda/lib/python3.8/site-packages/sklearn/linear_model/_ridge.py:147: LinAlgWarning:\n",
      "\n",
      "Ill-conditioned matrix (rcond=8.11064e-17): result may not be accurate.\n",
      "\n",
      "/opt/conda/lib/python3.8/site-packages/sklearn/linear_model/_ridge.py:147: LinAlgWarning:\n",
      "\n",
      "Ill-conditioned matrix (rcond=4.90365e-18): result may not be accurate.\n",
      "\n"
     ]
    }
   ],
   "source": [
    "# Perform grid search\n",
    "\n",
    "print(\"Grid search...\")\n",
    "# Grid of values to be tested\n",
    "params = {\n",
    "    'alpha': [0.0, 0.1, 0.5, 1.0] # 0 corresponds to no regularization\n",
    "}\n",
    "gridsearch = GridSearchCV(ridge, param_grid = params, cv = 10) # cv : the number of folds to be used for CV\n",
    "gridsearch.fit(X_train, Y_train)\n",
    "print(\"...Done.\")\n",
    "print(\"Best hyperparameters : \", gridsearch.best_params_)"
   ]
  },
  {
   "cell_type": "code",
   "execution_count": 46,
   "metadata": {},
   "outputs": [
    {
     "name": "stdout",
     "output_type": "stream",
     "text": [
      "R² score on training set : 0.982\n",
      "R² score on test set : 0.935\n"
     ]
    }
   ],
   "source": [
    "#Print R² scores on train/test sets for the Ridge model with optimal value of the regularization strength\n",
    "print(\"R² score on training set : {:.3f}\".format(gridsearch.score(X_train, Y_train)))\n",
    "print(\"R² score on test set : {:.3f}\".format(gridsearch.score(X_test, Y_test)))"
   ]
  },
  {
   "cell_type": "markdown",
   "metadata": {},
   "source": [
    "Lasso"
   ]
  },
  {
   "cell_type": "code",
   "execution_count": 39,
   "metadata": {},
   "outputs": [
    {
     "name": "stdout",
     "output_type": "stream",
     "text": [
      "Train score of ridge: 0.983\n",
      "Test score of ridge: 0.933\n"
     ]
    },
    {
     "name": "stderr",
     "output_type": "stream",
     "text": [
      "/opt/conda/lib/python3.8/site-packages/sklearn/linear_model/_coordinate_descent.py:529: ConvergenceWarning:\n",
      "\n",
      "Objective did not converge. You might want to increase the number of iterations. Duality gap: 258885497940.51547, tolerance: 3009808860.5723906\n",
      "\n"
     ]
    }
   ],
   "source": [
    "lasso = Lasso()\n",
    "lasso.fit(X_train, Y_train)\n",
    "print('Train score of ridge: {:.3f}'.format(lasso.score(X_train, Y_train)))\n",
    "print('Test score of ridge: {:.3f}'.format(lasso.score(X_test, Y_test)))"
   ]
  },
  {
   "cell_type": "markdown",
   "metadata": {},
   "source": [
    "Grid Search"
   ]
  },
  {
   "cell_type": "code",
   "execution_count": 25,
   "metadata": {},
   "outputs": [],
   "source": [
    "lasso1 = Lasso(alpha = 1)\n",
    "lasso001 = Lasso(alpha = 0.01)\n",
    "lasso00001 = Lasso(alpha = 0.0001)"
   ]
  },
  {
   "cell_type": "code",
   "execution_count": 26,
   "metadata": {},
   "outputs": [
    {
     "name": "stderr",
     "output_type": "stream",
     "text": [
      "/opt/conda/lib/python3.8/site-packages/sklearn/linear_model/_coordinate_descent.py:529: ConvergenceWarning:\n",
      "\n",
      "Objective did not converge. You might want to increase the number of iterations. Duality gap: 258885497940.51547, tolerance: 3009808860.5723906\n",
      "\n",
      "/opt/conda/lib/python3.8/site-packages/sklearn/linear_model/_coordinate_descent.py:529: ConvergenceWarning:\n",
      "\n",
      "Objective did not converge. You might want to increase the number of iterations. Duality gap: 259949688977.13312, tolerance: 3009808860.5723906\n",
      "\n",
      "/opt/conda/lib/python3.8/site-packages/sklearn/linear_model/_coordinate_descent.py:529: ConvergenceWarning:\n",
      "\n",
      "Objective did not converge. You might want to increase the number of iterations. Duality gap: 259960294666.3856, tolerance: 3009808860.5723906\n",
      "\n"
     ]
    },
    {
     "data": {
      "text/plain": [
       "Lasso(alpha=0.0001)"
      ]
     },
     "execution_count": 26,
     "metadata": {},
     "output_type": "execute_result"
    }
   ],
   "source": [
    "lasso1.fit(X_train, Y_train)\n",
    "lasso001.fit(X_train, Y_train)\n",
    "lasso00001.fit(X_train, Y_train)"
   ]
  },
  {
   "cell_type": "code",
   "execution_count": 36,
   "metadata": {},
   "outputs": [
    {
     "name": "stdout",
     "output_type": "stream",
     "text": [
      "Score Lasso1 : 0.982723303771656 \n",
      "Score Lasso001 : 0.9827257618616176 \n",
      "Score Lasso00001 : 0.9827257864159554\n"
     ]
    }
   ],
   "source": [
    "print(\"Score Lasso1 : {} \\nScore Lasso001 : {} \\nScore Lasso00001 : {}\".format(lasso1.score(X_train, Y_train),\n",
    "lasso001.score(X_train, Y_train),\n",
    "lasso00001.score(X_train,Y_train)))"
   ]
  },
  {
   "cell_type": "code",
   "execution_count": 37,
   "metadata": {},
   "outputs": [
    {
     "name": "stdout",
     "output_type": "stream",
     "text": [
      "Score Lasso1 : 0.9333945528659369 \n",
      "Score Lasso001 : 0.9333858688848655 \n",
      "Score Lasso00001 : 0.933385781924049\n"
     ]
    }
   ],
   "source": [
    "print(\"Score Lasso1 : {} \\nScore Lasso001 : {} \\nScore Lasso00001 : {}\".format(lasso1.score(X_test, Y_test),\n",
    "lasso001.score(X_test, Y_test),\n",
    "lasso00001.score(X_test,Y_test)))"
   ]
  },
  {
   "cell_type": "code",
   "execution_count": null,
   "metadata": {},
   "outputs": [],
   "source": [
    "# Le milleur alpha =1 "
   ]
  },
  {
   "cell_type": "code",
   "execution_count": null,
   "metadata": {},
   "outputs": [],
   "source": [
    "# Notre meilleur modèle qui nous donne le meilleur score sur le test est le modèle ridge avec grid search "
   ]
  }
 ],
 "metadata": {
  "kernelspec": {
   "display_name": "Python 3 (ipykernel)",
   "language": "python",
   "name": "python3"
  },
  "language_info": {
   "codemirror_mode": {
    "name": "ipython",
    "version": 3
   },
   "file_extension": ".py",
   "mimetype": "text/x-python",
   "name": "python",
   "nbconvert_exporter": "python",
   "pygments_lexer": "ipython3",
   "version": "3.9.7"
  }
 },
 "nbformat": 4,
 "nbformat_minor": 4
}
